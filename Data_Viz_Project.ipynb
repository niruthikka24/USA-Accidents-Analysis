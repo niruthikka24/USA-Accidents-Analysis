{
  "nbformat": 4,
  "nbformat_minor": 0,
  "metadata": {
    "colab": {
      "provenance": [],
      "authorship_tag": "ABX9TyOvzmNMXhBKWPevdESFRleP",
      "include_colab_link": true
    },
    "kernelspec": {
      "name": "python3",
      "display_name": "Python 3"
    },
    "language_info": {
      "name": "python"
    }
  },
  "cells": [
    {
      "cell_type": "markdown",
      "metadata": {
        "id": "view-in-github",
        "colab_type": "text"
      },
      "source": [
        "<a href=\"https://colab.research.google.com/github/niruthikka24/USA-Accidents-Analysis/blob/main/Data_Viz_Project.ipynb\" target=\"_parent\"><img src=\"https://colab.research.google.com/assets/colab-badge.svg\" alt=\"Open In Colab\"/></a>"
      ]
    },
    {
      "cell_type": "code",
      "source": [
        "from google.colab import files, drive\n",
        "import pandas as pd\n",
        "import numpy as np\n",
        "import math\n",
        "from datetime import datetime, timedelta\n",
        "%matplotlib inline\n",
        "import matplotlib.pyplot as plt\n",
        "import seaborn as sns\n",
        "from sklearn.model_selection import train_test_split\n",
        "from sklearn.metrics import classification_report, accuracy_score, recall_score, precision_score, f1_score, confusion_matrix"
      ],
      "metadata": {
        "id": "YV3uBcT9NZxp"
      },
      "execution_count": null,
      "outputs": []
    },
    {
      "cell_type": "code",
      "source": [
        "drive.mount('/content/drive')"
      ],
      "metadata": {
        "colab": {
          "base_uri": "https://localhost:8080/"
        },
        "id": "AIYVe8y5Nen2",
        "outputId": "0768af2d-75cd-4f0b-b178-4f2345324652"
      },
      "execution_count": null,
      "outputs": [
        {
          "output_type": "stream",
          "name": "stdout",
          "text": [
            "Mounted at /content/drive\n"
          ]
        }
      ]
    },
    {
      "cell_type": "code",
      "source": [
        "df = pd.read_csv('/content/drive/MyDrive/us_accident_new.csv')"
      ],
      "metadata": {
        "id": "6Vpjg2f0NjCJ"
      },
      "execution_count": null,
      "outputs": []
    },
    {
      "cell_type": "code",
      "source": [
        "states = []\n",
        "cities = []\n",
        "accident_cases = []\n",
        "dfnew = df.dropna(subset=['City'])\n",
        "for state in dfnew['State'].unique():\n",
        "  dfstate = dfnew[dfnew['State']==state]\n",
        "  for city in dfstate['City'].unique():\n",
        "    dfstatecity = dfstate[dfstate['City']==city]\n",
        "    accident_cases.append(dfstatecity.shape[0])\n",
        "    cities.append(city)\n",
        "    states.append(state)"
      ],
      "metadata": {
        "id": "73NE-GjgNv00"
      },
      "execution_count": null,
      "outputs": []
    },
    {
      "cell_type": "code",
      "execution_count": null,
      "metadata": {
        "id": "FGHSS0VmUdxS",
        "colab": {
          "base_uri": "https://localhost:8080/",
          "height": 206
        },
        "outputId": "5a2e1d4f-4c35-4daf-c714-81df4fafac56"
      },
      "outputs": [
        {
          "output_type": "execute_result",
          "data": {
            "text/plain": [
              "  State          City  Accident_Cases\n",
              "0  Ohio        Dublin             160\n",
              "1  Ohio        Dayton            4955\n",
              "2  Ohio    Cincinnati            3628\n",
              "3  Ohio         Akron             964\n",
              "4  Ohio  Williamsburg               8"
            ],
            "text/html": [
              "\n",
              "  <div id=\"df-d8b61171-77fa-4139-a865-a35919091b3f\">\n",
              "    <div class=\"colab-df-container\">\n",
              "      <div>\n",
              "<style scoped>\n",
              "    .dataframe tbody tr th:only-of-type {\n",
              "        vertical-align: middle;\n",
              "    }\n",
              "\n",
              "    .dataframe tbody tr th {\n",
              "        vertical-align: top;\n",
              "    }\n",
              "\n",
              "    .dataframe thead th {\n",
              "        text-align: right;\n",
              "    }\n",
              "</style>\n",
              "<table border=\"1\" class=\"dataframe\">\n",
              "  <thead>\n",
              "    <tr style=\"text-align: right;\">\n",
              "      <th></th>\n",
              "      <th>State</th>\n",
              "      <th>City</th>\n",
              "      <th>Accident_Cases</th>\n",
              "    </tr>\n",
              "  </thead>\n",
              "  <tbody>\n",
              "    <tr>\n",
              "      <th>0</th>\n",
              "      <td>Ohio</td>\n",
              "      <td>Dublin</td>\n",
              "      <td>160</td>\n",
              "    </tr>\n",
              "    <tr>\n",
              "      <th>1</th>\n",
              "      <td>Ohio</td>\n",
              "      <td>Dayton</td>\n",
              "      <td>4955</td>\n",
              "    </tr>\n",
              "    <tr>\n",
              "      <th>2</th>\n",
              "      <td>Ohio</td>\n",
              "      <td>Cincinnati</td>\n",
              "      <td>3628</td>\n",
              "    </tr>\n",
              "    <tr>\n",
              "      <th>3</th>\n",
              "      <td>Ohio</td>\n",
              "      <td>Akron</td>\n",
              "      <td>964</td>\n",
              "    </tr>\n",
              "    <tr>\n",
              "      <th>4</th>\n",
              "      <td>Ohio</td>\n",
              "      <td>Williamsburg</td>\n",
              "      <td>8</td>\n",
              "    </tr>\n",
              "  </tbody>\n",
              "</table>\n",
              "</div>\n",
              "      <button class=\"colab-df-convert\" onclick=\"convertToInteractive('df-d8b61171-77fa-4139-a865-a35919091b3f')\"\n",
              "              title=\"Convert this dataframe to an interactive table.\"\n",
              "              style=\"display:none;\">\n",
              "        \n",
              "  <svg xmlns=\"http://www.w3.org/2000/svg\" height=\"24px\"viewBox=\"0 0 24 24\"\n",
              "       width=\"24px\">\n",
              "    <path d=\"M0 0h24v24H0V0z\" fill=\"none\"/>\n",
              "    <path d=\"M18.56 5.44l.94 2.06.94-2.06 2.06-.94-2.06-.94-.94-2.06-.94 2.06-2.06.94zm-11 1L8.5 8.5l.94-2.06 2.06-.94-2.06-.94L8.5 2.5l-.94 2.06-2.06.94zm10 10l.94 2.06.94-2.06 2.06-.94-2.06-.94-.94-2.06-.94 2.06-2.06.94z\"/><path d=\"M17.41 7.96l-1.37-1.37c-.4-.4-.92-.59-1.43-.59-.52 0-1.04.2-1.43.59L10.3 9.45l-7.72 7.72c-.78.78-.78 2.05 0 2.83L4 21.41c.39.39.9.59 1.41.59.51 0 1.02-.2 1.41-.59l7.78-7.78 2.81-2.81c.8-.78.8-2.07 0-2.86zM5.41 20L4 18.59l7.72-7.72 1.47 1.35L5.41 20z\"/>\n",
              "  </svg>\n",
              "      </button>\n",
              "      \n",
              "  <style>\n",
              "    .colab-df-container {\n",
              "      display:flex;\n",
              "      flex-wrap:wrap;\n",
              "      gap: 12px;\n",
              "    }\n",
              "\n",
              "    .colab-df-convert {\n",
              "      background-color: #E8F0FE;\n",
              "      border: none;\n",
              "      border-radius: 50%;\n",
              "      cursor: pointer;\n",
              "      display: none;\n",
              "      fill: #1967D2;\n",
              "      height: 32px;\n",
              "      padding: 0 0 0 0;\n",
              "      width: 32px;\n",
              "    }\n",
              "\n",
              "    .colab-df-convert:hover {\n",
              "      background-color: #E2EBFA;\n",
              "      box-shadow: 0px 1px 2px rgba(60, 64, 67, 0.3), 0px 1px 3px 1px rgba(60, 64, 67, 0.15);\n",
              "      fill: #174EA6;\n",
              "    }\n",
              "\n",
              "    [theme=dark] .colab-df-convert {\n",
              "      background-color: #3B4455;\n",
              "      fill: #D2E3FC;\n",
              "    }\n",
              "\n",
              "    [theme=dark] .colab-df-convert:hover {\n",
              "      background-color: #434B5C;\n",
              "      box-shadow: 0px 1px 3px 1px rgba(0, 0, 0, 0.15);\n",
              "      filter: drop-shadow(0px 1px 2px rgba(0, 0, 0, 0.3));\n",
              "      fill: #FFFFFF;\n",
              "    }\n",
              "  </style>\n",
              "\n",
              "      <script>\n",
              "        const buttonEl =\n",
              "          document.querySelector('#df-d8b61171-77fa-4139-a865-a35919091b3f button.colab-df-convert');\n",
              "        buttonEl.style.display =\n",
              "          google.colab.kernel.accessAllowed ? 'block' : 'none';\n",
              "\n",
              "        async function convertToInteractive(key) {\n",
              "          const element = document.querySelector('#df-d8b61171-77fa-4139-a865-a35919091b3f');\n",
              "          const dataTable =\n",
              "            await google.colab.kernel.invokeFunction('convertToInteractive',\n",
              "                                                     [key], {});\n",
              "          if (!dataTable) return;\n",
              "\n",
              "          const docLinkHtml = 'Like what you see? Visit the ' +\n",
              "            '<a target=\"_blank\" href=https://colab.research.google.com/notebooks/data_table.ipynb>data table notebook</a>'\n",
              "            + ' to learn more about interactive tables.';\n",
              "          element.innerHTML = '';\n",
              "          dataTable['output_type'] = 'display_data';\n",
              "          await google.colab.output.renderOutput(dataTable, element);\n",
              "          const docLink = document.createElement('div');\n",
              "          docLink.innerHTML = docLinkHtml;\n",
              "          element.appendChild(docLink);\n",
              "        }\n",
              "      </script>\n",
              "    </div>\n",
              "  </div>\n",
              "  "
            ]
          },
          "metadata": {},
          "execution_count": 18
        }
      ],
      "source": [
        "statecity = pd.DataFrame({'State':states, 'City': cities, 'Accident_Cases': accident_cases})\n",
        "statecity.head()"
      ]
    },
    {
      "cell_type": "code",
      "source": [
        "statecity.shape"
      ],
      "metadata": {
        "colab": {
          "base_uri": "https://localhost:8080/"
        },
        "id": "dIgr4A9JRpHO",
        "outputId": "a6e1573f-c2e7-4d5f-fe3a-4ed6feb1ee0b"
      },
      "execution_count": null,
      "outputs": [
        {
          "output_type": "execute_result",
          "data": {
            "text/plain": [
              "(16930, 3)"
            ]
          },
          "metadata": {},
          "execution_count": 19
        }
      ]
    },
    {
      "cell_type": "code",
      "source": [
        "total_cases = statecity['Accident_Cases'].sum()\n",
        "total_cases"
      ],
      "metadata": {
        "colab": {
          "base_uri": "https://localhost:8080/"
        },
        "id": "XM1BVvQVQjIJ",
        "outputId": "4861cf5e-2684-4f5d-93af-40283b82abe7"
      },
      "execution_count": null,
      "outputs": [
        {
          "output_type": "execute_result",
          "data": {
            "text/plain": [
              "2845205"
            ]
          },
          "metadata": {},
          "execution_count": 20
        }
      ]
    },
    {
      "cell_type": "code",
      "source": [
        "df.shape"
      ],
      "metadata": {
        "colab": {
          "base_uri": "https://localhost:8080/"
        },
        "id": "KW6DkhqzQqJ0",
        "outputId": "0dadcdeb-60d9-41e4-a2f0-0f2f6b38bcb7"
      },
      "execution_count": null,
      "outputs": [
        {
          "output_type": "execute_result",
          "data": {
            "text/plain": [
              "(2845342, 44)"
            ]
          },
          "metadata": {},
          "execution_count": 5
        }
      ]
    },
    {
      "cell_type": "code",
      "source": [
        "# Sort the 'Accident_Cases' column in descending order\n",
        "statecity_sorted = statecity.sort_values('Accident_Cases', ascending=False)\n",
        "\n",
        "# Calculate the cumulative sum in a new column 'Cumulative_Sum'\n",
        "statecity_sorted['Cumulative_Sum'] = statecity_sorted['Accident_Cases'].cumsum()\n",
        "statecity_sorted['Total_Cases'] = total_cases\n",
        "statecity_sorted['Cumulative_Percentage'] = statecity_sorted['Cumulative_Sum']/statecity_sorted['Total_Cases']\n",
        "\n",
        "statecity_sorted"
      ],
      "metadata": {
        "colab": {
          "base_uri": "https://localhost:8080/",
          "height": 423
        },
        "id": "CS_xoIVvQEKh",
        "outputId": "66178a76-3f42-4491-b188-d7463256e7b7"
      },
      "execution_count": null,
      "outputs": [
        {
          "output_type": "execute_result",
          "data": {
            "text/plain": [
              "               State         City  Accident_Cases  Cumulative_Sum  \\\n",
              "10509        Florida        Miami          106896          106896   \n",
              "3409      California  Los Angeles           68956          175852   \n",
              "10516        Florida      Orlando           54654          230506   \n",
              "5009           Texas       Dallas           41615          272121   \n",
              "5013           Texas      Houston           39366          311487   \n",
              "...              ...          ...             ...             ...   \n",
              "15509  New Hampshire      Hancock               1         2845201   \n",
              "6425       Louisiana     Lockport               1         2845202   \n",
              "6419       Louisiana      Gilliam               1         2845203   \n",
              "6416       Louisiana    New Roads               1         2845204   \n",
              "6341       Louisiana  Springfield               1         2845205   \n",
              "\n",
              "       Total_Cases  Cumulative_Percentage  \n",
              "10509      2845205               0.037571  \n",
              "3409       2845205               0.061806  \n",
              "10516      2845205               0.081016  \n",
              "5009       2845205               0.095642  \n",
              "5013       2845205               0.109478  \n",
              "...            ...                    ...  \n",
              "15509      2845205               0.999999  \n",
              "6425       2845205               0.999999  \n",
              "6419       2845205               0.999999  \n",
              "6416       2845205               1.000000  \n",
              "6341       2845205               1.000000  \n",
              "\n",
              "[16930 rows x 6 columns]"
            ],
            "text/html": [
              "\n",
              "  <div id=\"df-7532c4af-562b-4812-aacb-27e89cac8dca\">\n",
              "    <div class=\"colab-df-container\">\n",
              "      <div>\n",
              "<style scoped>\n",
              "    .dataframe tbody tr th:only-of-type {\n",
              "        vertical-align: middle;\n",
              "    }\n",
              "\n",
              "    .dataframe tbody tr th {\n",
              "        vertical-align: top;\n",
              "    }\n",
              "\n",
              "    .dataframe thead th {\n",
              "        text-align: right;\n",
              "    }\n",
              "</style>\n",
              "<table border=\"1\" class=\"dataframe\">\n",
              "  <thead>\n",
              "    <tr style=\"text-align: right;\">\n",
              "      <th></th>\n",
              "      <th>State</th>\n",
              "      <th>City</th>\n",
              "      <th>Accident_Cases</th>\n",
              "      <th>Cumulative_Sum</th>\n",
              "      <th>Total_Cases</th>\n",
              "      <th>Cumulative_Percentage</th>\n",
              "    </tr>\n",
              "  </thead>\n",
              "  <tbody>\n",
              "    <tr>\n",
              "      <th>10509</th>\n",
              "      <td>Florida</td>\n",
              "      <td>Miami</td>\n",
              "      <td>106896</td>\n",
              "      <td>106896</td>\n",
              "      <td>2845205</td>\n",
              "      <td>0.037571</td>\n",
              "    </tr>\n",
              "    <tr>\n",
              "      <th>3409</th>\n",
              "      <td>California</td>\n",
              "      <td>Los Angeles</td>\n",
              "      <td>68956</td>\n",
              "      <td>175852</td>\n",
              "      <td>2845205</td>\n",
              "      <td>0.061806</td>\n",
              "    </tr>\n",
              "    <tr>\n",
              "      <th>10516</th>\n",
              "      <td>Florida</td>\n",
              "      <td>Orlando</td>\n",
              "      <td>54654</td>\n",
              "      <td>230506</td>\n",
              "      <td>2845205</td>\n",
              "      <td>0.081016</td>\n",
              "    </tr>\n",
              "    <tr>\n",
              "      <th>5009</th>\n",
              "      <td>Texas</td>\n",
              "      <td>Dallas</td>\n",
              "      <td>41615</td>\n",
              "      <td>272121</td>\n",
              "      <td>2845205</td>\n",
              "      <td>0.095642</td>\n",
              "    </tr>\n",
              "    <tr>\n",
              "      <th>5013</th>\n",
              "      <td>Texas</td>\n",
              "      <td>Houston</td>\n",
              "      <td>39366</td>\n",
              "      <td>311487</td>\n",
              "      <td>2845205</td>\n",
              "      <td>0.109478</td>\n",
              "    </tr>\n",
              "    <tr>\n",
              "      <th>...</th>\n",
              "      <td>...</td>\n",
              "      <td>...</td>\n",
              "      <td>...</td>\n",
              "      <td>...</td>\n",
              "      <td>...</td>\n",
              "      <td>...</td>\n",
              "    </tr>\n",
              "    <tr>\n",
              "      <th>15509</th>\n",
              "      <td>New Hampshire</td>\n",
              "      <td>Hancock</td>\n",
              "      <td>1</td>\n",
              "      <td>2845201</td>\n",
              "      <td>2845205</td>\n",
              "      <td>0.999999</td>\n",
              "    </tr>\n",
              "    <tr>\n",
              "      <th>6425</th>\n",
              "      <td>Louisiana</td>\n",
              "      <td>Lockport</td>\n",
              "      <td>1</td>\n",
              "      <td>2845202</td>\n",
              "      <td>2845205</td>\n",
              "      <td>0.999999</td>\n",
              "    </tr>\n",
              "    <tr>\n",
              "      <th>6419</th>\n",
              "      <td>Louisiana</td>\n",
              "      <td>Gilliam</td>\n",
              "      <td>1</td>\n",
              "      <td>2845203</td>\n",
              "      <td>2845205</td>\n",
              "      <td>0.999999</td>\n",
              "    </tr>\n",
              "    <tr>\n",
              "      <th>6416</th>\n",
              "      <td>Louisiana</td>\n",
              "      <td>New Roads</td>\n",
              "      <td>1</td>\n",
              "      <td>2845204</td>\n",
              "      <td>2845205</td>\n",
              "      <td>1.000000</td>\n",
              "    </tr>\n",
              "    <tr>\n",
              "      <th>6341</th>\n",
              "      <td>Louisiana</td>\n",
              "      <td>Springfield</td>\n",
              "      <td>1</td>\n",
              "      <td>2845205</td>\n",
              "      <td>2845205</td>\n",
              "      <td>1.000000</td>\n",
              "    </tr>\n",
              "  </tbody>\n",
              "</table>\n",
              "<p>16930 rows × 6 columns</p>\n",
              "</div>\n",
              "      <button class=\"colab-df-convert\" onclick=\"convertToInteractive('df-7532c4af-562b-4812-aacb-27e89cac8dca')\"\n",
              "              title=\"Convert this dataframe to an interactive table.\"\n",
              "              style=\"display:none;\">\n",
              "        \n",
              "  <svg xmlns=\"http://www.w3.org/2000/svg\" height=\"24px\"viewBox=\"0 0 24 24\"\n",
              "       width=\"24px\">\n",
              "    <path d=\"M0 0h24v24H0V0z\" fill=\"none\"/>\n",
              "    <path d=\"M18.56 5.44l.94 2.06.94-2.06 2.06-.94-2.06-.94-.94-2.06-.94 2.06-2.06.94zm-11 1L8.5 8.5l.94-2.06 2.06-.94-2.06-.94L8.5 2.5l-.94 2.06-2.06.94zm10 10l.94 2.06.94-2.06 2.06-.94-2.06-.94-.94-2.06-.94 2.06-2.06.94z\"/><path d=\"M17.41 7.96l-1.37-1.37c-.4-.4-.92-.59-1.43-.59-.52 0-1.04.2-1.43.59L10.3 9.45l-7.72 7.72c-.78.78-.78 2.05 0 2.83L4 21.41c.39.39.9.59 1.41.59.51 0 1.02-.2 1.41-.59l7.78-7.78 2.81-2.81c.8-.78.8-2.07 0-2.86zM5.41 20L4 18.59l7.72-7.72 1.47 1.35L5.41 20z\"/>\n",
              "  </svg>\n",
              "      </button>\n",
              "      \n",
              "  <style>\n",
              "    .colab-df-container {\n",
              "      display:flex;\n",
              "      flex-wrap:wrap;\n",
              "      gap: 12px;\n",
              "    }\n",
              "\n",
              "    .colab-df-convert {\n",
              "      background-color: #E8F0FE;\n",
              "      border: none;\n",
              "      border-radius: 50%;\n",
              "      cursor: pointer;\n",
              "      display: none;\n",
              "      fill: #1967D2;\n",
              "      height: 32px;\n",
              "      padding: 0 0 0 0;\n",
              "      width: 32px;\n",
              "    }\n",
              "\n",
              "    .colab-df-convert:hover {\n",
              "      background-color: #E2EBFA;\n",
              "      box-shadow: 0px 1px 2px rgba(60, 64, 67, 0.3), 0px 1px 3px 1px rgba(60, 64, 67, 0.15);\n",
              "      fill: #174EA6;\n",
              "    }\n",
              "\n",
              "    [theme=dark] .colab-df-convert {\n",
              "      background-color: #3B4455;\n",
              "      fill: #D2E3FC;\n",
              "    }\n",
              "\n",
              "    [theme=dark] .colab-df-convert:hover {\n",
              "      background-color: #434B5C;\n",
              "      box-shadow: 0px 1px 3px 1px rgba(0, 0, 0, 0.15);\n",
              "      filter: drop-shadow(0px 1px 2px rgba(0, 0, 0, 0.3));\n",
              "      fill: #FFFFFF;\n",
              "    }\n",
              "  </style>\n",
              "\n",
              "      <script>\n",
              "        const buttonEl =\n",
              "          document.querySelector('#df-7532c4af-562b-4812-aacb-27e89cac8dca button.colab-df-convert');\n",
              "        buttonEl.style.display =\n",
              "          google.colab.kernel.accessAllowed ? 'block' : 'none';\n",
              "\n",
              "        async function convertToInteractive(key) {\n",
              "          const element = document.querySelector('#df-7532c4af-562b-4812-aacb-27e89cac8dca');\n",
              "          const dataTable =\n",
              "            await google.colab.kernel.invokeFunction('convertToInteractive',\n",
              "                                                     [key], {});\n",
              "          if (!dataTable) return;\n",
              "\n",
              "          const docLinkHtml = 'Like what you see? Visit the ' +\n",
              "            '<a target=\"_blank\" href=https://colab.research.google.com/notebooks/data_table.ipynb>data table notebook</a>'\n",
              "            + ' to learn more about interactive tables.';\n",
              "          element.innerHTML = '';\n",
              "          dataTable['output_type'] = 'display_data';\n",
              "          await google.colab.output.renderOutput(dataTable, element);\n",
              "          const docLink = document.createElement('div');\n",
              "          docLink.innerHTML = docLinkHtml;\n",
              "          element.appendChild(docLink);\n",
              "        }\n",
              "      </script>\n",
              "    </div>\n",
              "  </div>\n",
              "  "
            ]
          },
          "metadata": {},
          "execution_count": 22
        }
      ]
    },
    {
      "cell_type": "code",
      "source": [
        "# Save DataFrame as a CSV file\n",
        "statecity_sorted.to_csv('statecity.csv', index=False)\n",
        "# Download the CSV file\n",
        "files.download('statecity.csv')"
      ],
      "metadata": {
        "colab": {
          "base_uri": "https://localhost:8080/",
          "height": 17
        },
        "id": "3jzBiBZpR6T6",
        "outputId": "8f8f9563-13c1-4a88-a5b3-23cf10bceb20"
      },
      "execution_count": null,
      "outputs": [
        {
          "output_type": "display_data",
          "data": {
            "text/plain": [
              "<IPython.core.display.Javascript object>"
            ],
            "application/javascript": [
              "\n",
              "    async function download(id, filename, size) {\n",
              "      if (!google.colab.kernel.accessAllowed) {\n",
              "        return;\n",
              "      }\n",
              "      const div = document.createElement('div');\n",
              "      const label = document.createElement('label');\n",
              "      label.textContent = `Downloading \"${filename}\": `;\n",
              "      div.appendChild(label);\n",
              "      const progress = document.createElement('progress');\n",
              "      progress.max = size;\n",
              "      div.appendChild(progress);\n",
              "      document.body.appendChild(div);\n",
              "\n",
              "      const buffers = [];\n",
              "      let downloaded = 0;\n",
              "\n",
              "      const channel = await google.colab.kernel.comms.open(id);\n",
              "      // Send a message to notify the kernel that we're ready.\n",
              "      channel.send({})\n",
              "\n",
              "      for await (const message of channel.messages) {\n",
              "        // Send a message to notify the kernel that we're ready.\n",
              "        channel.send({})\n",
              "        if (message.buffers) {\n",
              "          for (const buffer of message.buffers) {\n",
              "            buffers.push(buffer);\n",
              "            downloaded += buffer.byteLength;\n",
              "            progress.value = downloaded;\n",
              "          }\n",
              "        }\n",
              "      }\n",
              "      const blob = new Blob(buffers, {type: 'application/binary'});\n",
              "      const a = document.createElement('a');\n",
              "      a.href = window.URL.createObjectURL(blob);\n",
              "      a.download = filename;\n",
              "      div.appendChild(a);\n",
              "      a.click();\n",
              "      div.remove();\n",
              "    }\n",
              "  "
            ]
          },
          "metadata": {}
        },
        {
          "output_type": "display_data",
          "data": {
            "text/plain": [
              "<IPython.core.display.Javascript object>"
            ],
            "application/javascript": [
              "download(\"download_a2d63de0-bd90-4810-92a5-2040137a6623\", \"statecity.csv\", 965136)"
            ]
          },
          "metadata": {}
        }
      ]
    },
    {
      "cell_type": "code",
      "source": [
        "states = []\n",
        "accident_cases = []\n",
        "for state in dfnew['State'].unique():\n",
        "  dfstate = dfnew[dfnew['State']==state]\n",
        "  accident_cases.append(dfstate.shape[0])\n",
        "  states.append(state)"
      ],
      "metadata": {
        "id": "JjmWZNEYl95V"
      },
      "execution_count": null,
      "outputs": []
    },
    {
      "cell_type": "code",
      "source": [
        "statedf = pd.DataFrame({'State':states, 'Accident_Cases': accident_cases})\n",
        "statedf['Accident_Cases'].sum()"
      ],
      "metadata": {
        "colab": {
          "base_uri": "https://localhost:8080/"
        },
        "id": "3BqG4njRt8su",
        "outputId": "7e1ed18f-9571-4477-faf5-4c344b56ca2e"
      },
      "execution_count": null,
      "outputs": [
        {
          "output_type": "execute_result",
          "data": {
            "text/plain": [
              "2845205"
            ]
          },
          "metadata": {},
          "execution_count": 27
        }
      ]
    },
    {
      "cell_type": "code",
      "source": [
        "df['State'].unique()"
      ],
      "metadata": {
        "colab": {
          "base_uri": "https://localhost:8080/"
        },
        "id": "I9uLh9ocuAjM",
        "outputId": "e21111cd-6de7-497c-930f-d38f601312cc"
      },
      "execution_count": null,
      "outputs": [
        {
          "output_type": "execute_result",
          "data": {
            "text/plain": [
              "array(['Ohio', 'Indiana', 'Kentucky', 'West Virginia', 'Michigan',\n",
              "       'Pennsylvania', 'California', 'Nevada', 'Minnesota', 'Texas',\n",
              "       'Missouri', 'Colorado', 'Oklahoma', 'Louisiana', 'Kansas',\n",
              "       'Wisconsin', 'Iowa', 'Mississippi', 'Nebraska', 'North Dakota',\n",
              "       'Wyoming', 'South Dakota', 'Montana', 'New Mexico', 'Arkansas',\n",
              "       'Illinois', 'New Jersey', 'Georgia', 'Florida', 'New York',\n",
              "       'Connecticut', 'Rhode Island', 'South Carolina', 'North Carolina',\n",
              "       'Maryland', 'Massachusetts', 'Tennessee', 'Virginia', 'Delaware',\n",
              "       'District of Columbia', 'Maine', 'Alabama', 'New Hampshire',\n",
              "       'Vermont', 'Arizona', 'Utah', 'Idaho', 'Oregon', 'Washington'],\n",
              "      dtype=object)"
            ]
          },
          "metadata": {},
          "execution_count": 32
        }
      ]
    },
    {
      "cell_type": "code",
      "source": [
        "statedf = pd.DataFrame({'State':states, 'Accident_Cases': accident_cases})\n",
        "# Sort the 'Accident_Cases' column in descending order\n",
        "statedf_sorted = statedf.sort_values('Accident_Cases', ascending=False)\n",
        "\n",
        "# Calculate the cumulative sum in a new column 'Cumulative_Sum'\n",
        "statedf_sorted['Cumulative_Sum'] = statedf_sorted['Accident_Cases'].cumsum()\n",
        "statedf_sorted['Total_Cases'] = total_cases\n",
        "statedf_sorted['Cumulative_Percentage'] = statedf_sorted['Cumulative_Sum']/statedf_sorted['Total_Cases']\n",
        "statedf_sorted"
      ],
      "metadata": {
        "id": "M4ndUimttorG"
      },
      "execution_count": null,
      "outputs": []
    },
    {
      "cell_type": "code",
      "source": [
        "# Save DataFrame as a CSV file\n",
        "statedf_sorted.to_csv('statedf.csv', index=False)\n",
        "# Download the CSV file\n",
        "files.download('statedf.csv')"
      ],
      "metadata": {
        "colab": {
          "base_uri": "https://localhost:8080/",
          "height": 17
        },
        "id": "uDQxHoKsudwh",
        "outputId": "789cb734-fcdd-4d63-f52e-2503658e41bb"
      },
      "execution_count": null,
      "outputs": [
        {
          "output_type": "display_data",
          "data": {
            "text/plain": [
              "<IPython.core.display.Javascript object>"
            ],
            "application/javascript": [
              "\n",
              "    async function download(id, filename, size) {\n",
              "      if (!google.colab.kernel.accessAllowed) {\n",
              "        return;\n",
              "      }\n",
              "      const div = document.createElement('div');\n",
              "      const label = document.createElement('label');\n",
              "      label.textContent = `Downloading \"${filename}\": `;\n",
              "      div.appendChild(label);\n",
              "      const progress = document.createElement('progress');\n",
              "      progress.max = size;\n",
              "      div.appendChild(progress);\n",
              "      document.body.appendChild(div);\n",
              "\n",
              "      const buffers = [];\n",
              "      let downloaded = 0;\n",
              "\n",
              "      const channel = await google.colab.kernel.comms.open(id);\n",
              "      // Send a message to notify the kernel that we're ready.\n",
              "      channel.send({})\n",
              "\n",
              "      for await (const message of channel.messages) {\n",
              "        // Send a message to notify the kernel that we're ready.\n",
              "        channel.send({})\n",
              "        if (message.buffers) {\n",
              "          for (const buffer of message.buffers) {\n",
              "            buffers.push(buffer);\n",
              "            downloaded += buffer.byteLength;\n",
              "            progress.value = downloaded;\n",
              "          }\n",
              "        }\n",
              "      }\n",
              "      const blob = new Blob(buffers, {type: 'application/binary'});\n",
              "      const a = document.createElement('a');\n",
              "      a.href = window.URL.createObjectURL(blob);\n",
              "      a.download = filename;\n",
              "      div.appendChild(a);\n",
              "      a.click();\n",
              "      div.remove();\n",
              "    }\n",
              "  "
            ]
          },
          "metadata": {}
        },
        {
          "output_type": "display_data",
          "data": {
            "text/plain": [
              "<IPython.core.display.Javascript object>"
            ],
            "application/javascript": [
              "download(\"download_9253443c-031b-4466-be27-813373234db9\", \"statedf.csv\", 2517)"
            ]
          },
          "metadata": {}
        }
      ]
    },
    {
      "cell_type": "code",
      "source": [
        "statedf.shape"
      ],
      "metadata": {
        "colab": {
          "base_uri": "https://localhost:8080/"
        },
        "id": "pGY4L5oaRHX-",
        "outputId": "51a9f931-d9af-4203-9752-71f4f38bffbb"
      },
      "execution_count": null,
      "outputs": [
        {
          "output_type": "execute_result",
          "data": {
            "text/plain": [
              "(49, 2)"
            ]
          },
          "metadata": {},
          "execution_count": 41
        }
      ]
    },
    {
      "cell_type": "code",
      "source": [
        "statecity_sorted"
      ],
      "metadata": {
        "colab": {
          "base_uri": "https://localhost:8080/",
          "height": 423
        },
        "id": "YsILvJDPRI_O",
        "outputId": "9b8ddd63-5600-46ad-cefe-4de10d47d493"
      },
      "execution_count": null,
      "outputs": [
        {
          "output_type": "execute_result",
          "data": {
            "text/plain": [
              "               State         City  Accident_Cases  Cumulative_Sum  \\\n",
              "10509        Florida        Miami          106896          106896   \n",
              "3409      California  Los Angeles           68956          175852   \n",
              "10516        Florida      Orlando           54654          230506   \n",
              "5009           Texas       Dallas           41615          272121   \n",
              "5013           Texas      Houston           39366          311487   \n",
              "...              ...          ...             ...             ...   \n",
              "15509  New Hampshire      Hancock               1         2845201   \n",
              "6425       Louisiana     Lockport               1         2845202   \n",
              "6419       Louisiana      Gilliam               1         2845203   \n",
              "6416       Louisiana    New Roads               1         2845204   \n",
              "6341       Louisiana  Springfield               1         2845205   \n",
              "\n",
              "       Total_Cases  Cumulative_Percentage  \n",
              "10509      2845205               0.037571  \n",
              "3409       2845205               0.061806  \n",
              "10516      2845205               0.081016  \n",
              "5009       2845205               0.095642  \n",
              "5013       2845205               0.109478  \n",
              "...            ...                    ...  \n",
              "15509      2845205               0.999999  \n",
              "6425       2845205               0.999999  \n",
              "6419       2845205               0.999999  \n",
              "6416       2845205               1.000000  \n",
              "6341       2845205               1.000000  \n",
              "\n",
              "[16930 rows x 6 columns]"
            ],
            "text/html": [
              "\n",
              "  <div id=\"df-064ddba4-847a-4317-b076-63e9e56902df\">\n",
              "    <div class=\"colab-df-container\">\n",
              "      <div>\n",
              "<style scoped>\n",
              "    .dataframe tbody tr th:only-of-type {\n",
              "        vertical-align: middle;\n",
              "    }\n",
              "\n",
              "    .dataframe tbody tr th {\n",
              "        vertical-align: top;\n",
              "    }\n",
              "\n",
              "    .dataframe thead th {\n",
              "        text-align: right;\n",
              "    }\n",
              "</style>\n",
              "<table border=\"1\" class=\"dataframe\">\n",
              "  <thead>\n",
              "    <tr style=\"text-align: right;\">\n",
              "      <th></th>\n",
              "      <th>State</th>\n",
              "      <th>City</th>\n",
              "      <th>Accident_Cases</th>\n",
              "      <th>Cumulative_Sum</th>\n",
              "      <th>Total_Cases</th>\n",
              "      <th>Cumulative_Percentage</th>\n",
              "    </tr>\n",
              "  </thead>\n",
              "  <tbody>\n",
              "    <tr>\n",
              "      <th>10509</th>\n",
              "      <td>Florida</td>\n",
              "      <td>Miami</td>\n",
              "      <td>106896</td>\n",
              "      <td>106896</td>\n",
              "      <td>2845205</td>\n",
              "      <td>0.037571</td>\n",
              "    </tr>\n",
              "    <tr>\n",
              "      <th>3409</th>\n",
              "      <td>California</td>\n",
              "      <td>Los Angeles</td>\n",
              "      <td>68956</td>\n",
              "      <td>175852</td>\n",
              "      <td>2845205</td>\n",
              "      <td>0.061806</td>\n",
              "    </tr>\n",
              "    <tr>\n",
              "      <th>10516</th>\n",
              "      <td>Florida</td>\n",
              "      <td>Orlando</td>\n",
              "      <td>54654</td>\n",
              "      <td>230506</td>\n",
              "      <td>2845205</td>\n",
              "      <td>0.081016</td>\n",
              "    </tr>\n",
              "    <tr>\n",
              "      <th>5009</th>\n",
              "      <td>Texas</td>\n",
              "      <td>Dallas</td>\n",
              "      <td>41615</td>\n",
              "      <td>272121</td>\n",
              "      <td>2845205</td>\n",
              "      <td>0.095642</td>\n",
              "    </tr>\n",
              "    <tr>\n",
              "      <th>5013</th>\n",
              "      <td>Texas</td>\n",
              "      <td>Houston</td>\n",
              "      <td>39366</td>\n",
              "      <td>311487</td>\n",
              "      <td>2845205</td>\n",
              "      <td>0.109478</td>\n",
              "    </tr>\n",
              "    <tr>\n",
              "      <th>...</th>\n",
              "      <td>...</td>\n",
              "      <td>...</td>\n",
              "      <td>...</td>\n",
              "      <td>...</td>\n",
              "      <td>...</td>\n",
              "      <td>...</td>\n",
              "    </tr>\n",
              "    <tr>\n",
              "      <th>15509</th>\n",
              "      <td>New Hampshire</td>\n",
              "      <td>Hancock</td>\n",
              "      <td>1</td>\n",
              "      <td>2845201</td>\n",
              "      <td>2845205</td>\n",
              "      <td>0.999999</td>\n",
              "    </tr>\n",
              "    <tr>\n",
              "      <th>6425</th>\n",
              "      <td>Louisiana</td>\n",
              "      <td>Lockport</td>\n",
              "      <td>1</td>\n",
              "      <td>2845202</td>\n",
              "      <td>2845205</td>\n",
              "      <td>0.999999</td>\n",
              "    </tr>\n",
              "    <tr>\n",
              "      <th>6419</th>\n",
              "      <td>Louisiana</td>\n",
              "      <td>Gilliam</td>\n",
              "      <td>1</td>\n",
              "      <td>2845203</td>\n",
              "      <td>2845205</td>\n",
              "      <td>0.999999</td>\n",
              "    </tr>\n",
              "    <tr>\n",
              "      <th>6416</th>\n",
              "      <td>Louisiana</td>\n",
              "      <td>New Roads</td>\n",
              "      <td>1</td>\n",
              "      <td>2845204</td>\n",
              "      <td>2845205</td>\n",
              "      <td>1.000000</td>\n",
              "    </tr>\n",
              "    <tr>\n",
              "      <th>6341</th>\n",
              "      <td>Louisiana</td>\n",
              "      <td>Springfield</td>\n",
              "      <td>1</td>\n",
              "      <td>2845205</td>\n",
              "      <td>2845205</td>\n",
              "      <td>1.000000</td>\n",
              "    </tr>\n",
              "  </tbody>\n",
              "</table>\n",
              "<p>16930 rows × 6 columns</p>\n",
              "</div>\n",
              "      <button class=\"colab-df-convert\" onclick=\"convertToInteractive('df-064ddba4-847a-4317-b076-63e9e56902df')\"\n",
              "              title=\"Convert this dataframe to an interactive table.\"\n",
              "              style=\"display:none;\">\n",
              "        \n",
              "  <svg xmlns=\"http://www.w3.org/2000/svg\" height=\"24px\"viewBox=\"0 0 24 24\"\n",
              "       width=\"24px\">\n",
              "    <path d=\"M0 0h24v24H0V0z\" fill=\"none\"/>\n",
              "    <path d=\"M18.56 5.44l.94 2.06.94-2.06 2.06-.94-2.06-.94-.94-2.06-.94 2.06-2.06.94zm-11 1L8.5 8.5l.94-2.06 2.06-.94-2.06-.94L8.5 2.5l-.94 2.06-2.06.94zm10 10l.94 2.06.94-2.06 2.06-.94-2.06-.94-.94-2.06-.94 2.06-2.06.94z\"/><path d=\"M17.41 7.96l-1.37-1.37c-.4-.4-.92-.59-1.43-.59-.52 0-1.04.2-1.43.59L10.3 9.45l-7.72 7.72c-.78.78-.78 2.05 0 2.83L4 21.41c.39.39.9.59 1.41.59.51 0 1.02-.2 1.41-.59l7.78-7.78 2.81-2.81c.8-.78.8-2.07 0-2.86zM5.41 20L4 18.59l7.72-7.72 1.47 1.35L5.41 20z\"/>\n",
              "  </svg>\n",
              "      </button>\n",
              "      \n",
              "  <style>\n",
              "    .colab-df-container {\n",
              "      display:flex;\n",
              "      flex-wrap:wrap;\n",
              "      gap: 12px;\n",
              "    }\n",
              "\n",
              "    .colab-df-convert {\n",
              "      background-color: #E8F0FE;\n",
              "      border: none;\n",
              "      border-radius: 50%;\n",
              "      cursor: pointer;\n",
              "      display: none;\n",
              "      fill: #1967D2;\n",
              "      height: 32px;\n",
              "      padding: 0 0 0 0;\n",
              "      width: 32px;\n",
              "    }\n",
              "\n",
              "    .colab-df-convert:hover {\n",
              "      background-color: #E2EBFA;\n",
              "      box-shadow: 0px 1px 2px rgba(60, 64, 67, 0.3), 0px 1px 3px 1px rgba(60, 64, 67, 0.15);\n",
              "      fill: #174EA6;\n",
              "    }\n",
              "\n",
              "    [theme=dark] .colab-df-convert {\n",
              "      background-color: #3B4455;\n",
              "      fill: #D2E3FC;\n",
              "    }\n",
              "\n",
              "    [theme=dark] .colab-df-convert:hover {\n",
              "      background-color: #434B5C;\n",
              "      box-shadow: 0px 1px 3px 1px rgba(0, 0, 0, 0.15);\n",
              "      filter: drop-shadow(0px 1px 2px rgba(0, 0, 0, 0.3));\n",
              "      fill: #FFFFFF;\n",
              "    }\n",
              "  </style>\n",
              "\n",
              "      <script>\n",
              "        const buttonEl =\n",
              "          document.querySelector('#df-064ddba4-847a-4317-b076-63e9e56902df button.colab-df-convert');\n",
              "        buttonEl.style.display =\n",
              "          google.colab.kernel.accessAllowed ? 'block' : 'none';\n",
              "\n",
              "        async function convertToInteractive(key) {\n",
              "          const element = document.querySelector('#df-064ddba4-847a-4317-b076-63e9e56902df');\n",
              "          const dataTable =\n",
              "            await google.colab.kernel.invokeFunction('convertToInteractive',\n",
              "                                                     [key], {});\n",
              "          if (!dataTable) return;\n",
              "\n",
              "          const docLinkHtml = 'Like what you see? Visit the ' +\n",
              "            '<a target=\"_blank\" href=https://colab.research.google.com/notebooks/data_table.ipynb>data table notebook</a>'\n",
              "            + ' to learn more about interactive tables.';\n",
              "          element.innerHTML = '';\n",
              "          dataTable['output_type'] = 'display_data';\n",
              "          await google.colab.output.renderOutput(dataTable, element);\n",
              "          const docLink = document.createElement('div');\n",
              "          docLink.innerHTML = docLinkHtml;\n",
              "          element.appendChild(docLink);\n",
              "        }\n",
              "      </script>\n",
              "    </div>\n",
              "  </div>\n",
              "  "
            ]
          },
          "metadata": {},
          "execution_count": 42
        }
      ]
    },
    {
      "cell_type": "code",
      "source": [
        "print(df['Start_Time'].min())\n",
        "print(df['Start_Time'].max())"
      ],
      "metadata": {
        "id": "LGCqXVffTnhT",
        "colab": {
          "base_uri": "https://localhost:8080/"
        },
        "outputId": "3fedb499-cfec-404d-8c21-22c3f20d1c24"
      },
      "execution_count": null,
      "outputs": [
        {
          "output_type": "stream",
          "name": "stdout",
          "text": [
            "2016-01-14 20:18:33\n",
            "2021-12-31 23:30:00\n"
          ]
        }
      ]
    },
    {
      "cell_type": "code",
      "source": [
        "df.columns"
      ],
      "metadata": {
        "colab": {
          "base_uri": "https://localhost:8080/"
        },
        "id": "fF7LnOmsCueS",
        "outputId": "ce980ae5-e577-47da-a0c0-f9ebc2d20b55"
      },
      "execution_count": null,
      "outputs": [
        {
          "output_type": "execute_result",
          "data": {
            "text/plain": [
              "Index(['ID', 'Severity', 'Start_Time', 'End_Time', 'Start_Lat', 'Start_Lng',\n",
              "       'End_Lat', 'End_Lng', 'Distance(mi)', 'Description', 'Street', 'Side',\n",
              "       'City', 'County', 'State', 'Zipcode', 'Country', 'Timezone',\n",
              "       'Airport_Code', 'Weather_Timestamp', 'Temperature(F)', 'Humidity(%)',\n",
              "       'Pressure(in)', 'Visibility(mi)', 'Wind_Direction', 'Wind_Speed(mph)',\n",
              "       'Weather_Condition', 'Amenity', 'Bump', 'Crossing', 'Give_Way',\n",
              "       'Junction', 'No_Exit', 'Railway', 'Roundabout', 'Station', 'Stop',\n",
              "       'Traffic_Calming', 'Traffic_Signal', 'Turning_Loop', 'Sunrise_Sunset',\n",
              "       'Civil_Twilight', 'Nautical_Twilight', 'Astronomical_Twilight'],\n",
              "      dtype='object')"
            ]
          },
          "metadata": {},
          "execution_count": 7
        }
      ]
    },
    {
      "cell_type": "code",
      "source": [
        "df['Road_Infrastructure_Count'] = df[['Amenity', 'Bump', 'Crossing', 'Give_Way', 'Junction', 'No_Exit', 'Railway', 'Roundabout',\n",
        "                      'Station', 'Stop', 'Traffic_Calming', 'Traffic_Signal', 'Turning_Loop']].sum(axis=1)"
      ],
      "metadata": {
        "id": "5wRJEx7JFfVJ"
      },
      "execution_count": null,
      "outputs": []
    },
    {
      "cell_type": "code",
      "source": [
        "df['Road_Infrastructure_Count'].value_counts()"
      ],
      "metadata": {
        "colab": {
          "base_uri": "https://localhost:8080/"
        },
        "id": "tmks0rTlHhj6",
        "outputId": "7d49945d-d211-4628-dcd1-22a7fb192106"
      },
      "execution_count": null,
      "outputs": [
        {
          "output_type": "execute_result",
          "data": {
            "text/plain": [
              "0    2110939\n",
              "1     565270\n",
              "2     138532\n",
              "3      26318\n",
              "4       3741\n",
              "5        490\n",
              "6         52\n",
              "Name: Road_Infrastructure_Count, dtype: int64"
            ]
          },
          "metadata": {},
          "execution_count": 11
        }
      ]
    },
    {
      "cell_type": "code",
      "source": [
        "lis = ['Amenity', 'Bump', 'Crossing', 'Give_Way', 'Junction', 'No_Exit', 'Railway', 'Roundabout',\n",
        "                      'Station', 'Stop', 'Traffic_Calming', 'Traffic_Signal', 'Turning_Loop']\n",
        "print('-'.join(lis))"
      ],
      "metadata": {
        "id": "r9KGk6BIhlV5",
        "outputId": "46ad1601-b0eb-4cdd-f173-f2ee94104359",
        "colab": {
          "base_uri": "https://localhost:8080/"
        }
      },
      "execution_count": null,
      "outputs": [
        {
          "output_type": "stream",
          "name": "stdout",
          "text": [
            "Amenity-Bump-Crossing-Give_Way-Junction-No_Exit-Railway-Roundabout-Station-Stop-Traffic_Calming-Traffic_Signal-Turning_Loop\n"
          ]
        }
      ]
    },
    {
      "cell_type": "code",
      "source": [
        "lis = ['Amenity', 'Bump', 'Crossing', 'Give_Way', 'Junction', 'No_Exit', 'Railway', 'Roundabout',\n",
        "                      'Station', 'Stop', 'Traffic_Calming', 'Traffic_Signal', 'Turning_Loop']\n",
        "cat1 = []\n",
        "cat2 = []\n",
        "severitylis = []\n",
        "countlis = []\n",
        "severities = [1,2,3,4]\n",
        "for i1 in lis:\n",
        "  for i2 in lis:\n",
        "    for s in severities:\n",
        "      if i1 == i2:\n",
        "        count = df[(df[i1]==True) & (df['Severity']==s)].shape[0]\n",
        "      else:\n",
        "        count = df[(df[i1]==True) & (df[i2]==True) & (df['Severity']==s)].shape[0]\n",
        "      cat1.append(i1)\n",
        "      cat2.append(i2)\n",
        "      severitylis.append(s)\n",
        "      countlis.append(count)"
      ],
      "metadata": {
        "id": "UvL_Mkb6JmyZ"
      },
      "execution_count": null,
      "outputs": []
    },
    {
      "cell_type": "code",
      "source": [
        "heatmapdf = pd.DataFrame({'Infrastructure_1': cat1, 'Infrastructure_2': cat2, 'Severity':severitylis, 'Accident_Cases': countlis})\n",
        "heatmapdf"
      ],
      "metadata": {
        "colab": {
          "base_uri": "https://localhost:8080/",
          "height": 423
        },
        "id": "v33sJUERXvKJ",
        "outputId": "a1574843-e70c-43a3-d19b-f843be24dd84"
      },
      "execution_count": null,
      "outputs": [
        {
          "output_type": "execute_result",
          "data": {
            "text/plain": [
              "    Infrastructure_1 Infrastructure_2  Severity  Accident_Cases\n",
              "0            Amenity          Amenity         1             546\n",
              "1            Amenity          Amenity         2           24962\n",
              "2            Amenity          Amenity         3            1097\n",
              "3            Amenity          Amenity         4            1385\n",
              "4            Amenity             Bump         1               0\n",
              "..               ...              ...       ...             ...\n",
              "671     Turning_Loop   Traffic_Signal         4               0\n",
              "672     Turning_Loop     Turning_Loop         1               0\n",
              "673     Turning_Loop     Turning_Loop         2               0\n",
              "674     Turning_Loop     Turning_Loop         3               0\n",
              "675     Turning_Loop     Turning_Loop         4               0\n",
              "\n",
              "[676 rows x 4 columns]"
            ],
            "text/html": [
              "\n",
              "  <div id=\"df-10404beb-0b64-4fd9-8a9a-17eb4b5f9995\">\n",
              "    <div class=\"colab-df-container\">\n",
              "      <div>\n",
              "<style scoped>\n",
              "    .dataframe tbody tr th:only-of-type {\n",
              "        vertical-align: middle;\n",
              "    }\n",
              "\n",
              "    .dataframe tbody tr th {\n",
              "        vertical-align: top;\n",
              "    }\n",
              "\n",
              "    .dataframe thead th {\n",
              "        text-align: right;\n",
              "    }\n",
              "</style>\n",
              "<table border=\"1\" class=\"dataframe\">\n",
              "  <thead>\n",
              "    <tr style=\"text-align: right;\">\n",
              "      <th></th>\n",
              "      <th>Infrastructure_1</th>\n",
              "      <th>Infrastructure_2</th>\n",
              "      <th>Severity</th>\n",
              "      <th>Accident_Cases</th>\n",
              "    </tr>\n",
              "  </thead>\n",
              "  <tbody>\n",
              "    <tr>\n",
              "      <th>0</th>\n",
              "      <td>Amenity</td>\n",
              "      <td>Amenity</td>\n",
              "      <td>1</td>\n",
              "      <td>546</td>\n",
              "    </tr>\n",
              "    <tr>\n",
              "      <th>1</th>\n",
              "      <td>Amenity</td>\n",
              "      <td>Amenity</td>\n",
              "      <td>2</td>\n",
              "      <td>24962</td>\n",
              "    </tr>\n",
              "    <tr>\n",
              "      <th>2</th>\n",
              "      <td>Amenity</td>\n",
              "      <td>Amenity</td>\n",
              "      <td>3</td>\n",
              "      <td>1097</td>\n",
              "    </tr>\n",
              "    <tr>\n",
              "      <th>3</th>\n",
              "      <td>Amenity</td>\n",
              "      <td>Amenity</td>\n",
              "      <td>4</td>\n",
              "      <td>1385</td>\n",
              "    </tr>\n",
              "    <tr>\n",
              "      <th>4</th>\n",
              "      <td>Amenity</td>\n",
              "      <td>Bump</td>\n",
              "      <td>1</td>\n",
              "      <td>0</td>\n",
              "    </tr>\n",
              "    <tr>\n",
              "      <th>...</th>\n",
              "      <td>...</td>\n",
              "      <td>...</td>\n",
              "      <td>...</td>\n",
              "      <td>...</td>\n",
              "    </tr>\n",
              "    <tr>\n",
              "      <th>671</th>\n",
              "      <td>Turning_Loop</td>\n",
              "      <td>Traffic_Signal</td>\n",
              "      <td>4</td>\n",
              "      <td>0</td>\n",
              "    </tr>\n",
              "    <tr>\n",
              "      <th>672</th>\n",
              "      <td>Turning_Loop</td>\n",
              "      <td>Turning_Loop</td>\n",
              "      <td>1</td>\n",
              "      <td>0</td>\n",
              "    </tr>\n",
              "    <tr>\n",
              "      <th>673</th>\n",
              "      <td>Turning_Loop</td>\n",
              "      <td>Turning_Loop</td>\n",
              "      <td>2</td>\n",
              "      <td>0</td>\n",
              "    </tr>\n",
              "    <tr>\n",
              "      <th>674</th>\n",
              "      <td>Turning_Loop</td>\n",
              "      <td>Turning_Loop</td>\n",
              "      <td>3</td>\n",
              "      <td>0</td>\n",
              "    </tr>\n",
              "    <tr>\n",
              "      <th>675</th>\n",
              "      <td>Turning_Loop</td>\n",
              "      <td>Turning_Loop</td>\n",
              "      <td>4</td>\n",
              "      <td>0</td>\n",
              "    </tr>\n",
              "  </tbody>\n",
              "</table>\n",
              "<p>676 rows × 4 columns</p>\n",
              "</div>\n",
              "      <button class=\"colab-df-convert\" onclick=\"convertToInteractive('df-10404beb-0b64-4fd9-8a9a-17eb4b5f9995')\"\n",
              "              title=\"Convert this dataframe to an interactive table.\"\n",
              "              style=\"display:none;\">\n",
              "        \n",
              "  <svg xmlns=\"http://www.w3.org/2000/svg\" height=\"24px\"viewBox=\"0 0 24 24\"\n",
              "       width=\"24px\">\n",
              "    <path d=\"M0 0h24v24H0V0z\" fill=\"none\"/>\n",
              "    <path d=\"M18.56 5.44l.94 2.06.94-2.06 2.06-.94-2.06-.94-.94-2.06-.94 2.06-2.06.94zm-11 1L8.5 8.5l.94-2.06 2.06-.94-2.06-.94L8.5 2.5l-.94 2.06-2.06.94zm10 10l.94 2.06.94-2.06 2.06-.94-2.06-.94-.94-2.06-.94 2.06-2.06.94z\"/><path d=\"M17.41 7.96l-1.37-1.37c-.4-.4-.92-.59-1.43-.59-.52 0-1.04.2-1.43.59L10.3 9.45l-7.72 7.72c-.78.78-.78 2.05 0 2.83L4 21.41c.39.39.9.59 1.41.59.51 0 1.02-.2 1.41-.59l7.78-7.78 2.81-2.81c.8-.78.8-2.07 0-2.86zM5.41 20L4 18.59l7.72-7.72 1.47 1.35L5.41 20z\"/>\n",
              "  </svg>\n",
              "      </button>\n",
              "      \n",
              "  <style>\n",
              "    .colab-df-container {\n",
              "      display:flex;\n",
              "      flex-wrap:wrap;\n",
              "      gap: 12px;\n",
              "    }\n",
              "\n",
              "    .colab-df-convert {\n",
              "      background-color: #E8F0FE;\n",
              "      border: none;\n",
              "      border-radius: 50%;\n",
              "      cursor: pointer;\n",
              "      display: none;\n",
              "      fill: #1967D2;\n",
              "      height: 32px;\n",
              "      padding: 0 0 0 0;\n",
              "      width: 32px;\n",
              "    }\n",
              "\n",
              "    .colab-df-convert:hover {\n",
              "      background-color: #E2EBFA;\n",
              "      box-shadow: 0px 1px 2px rgba(60, 64, 67, 0.3), 0px 1px 3px 1px rgba(60, 64, 67, 0.15);\n",
              "      fill: #174EA6;\n",
              "    }\n",
              "\n",
              "    [theme=dark] .colab-df-convert {\n",
              "      background-color: #3B4455;\n",
              "      fill: #D2E3FC;\n",
              "    }\n",
              "\n",
              "    [theme=dark] .colab-df-convert:hover {\n",
              "      background-color: #434B5C;\n",
              "      box-shadow: 0px 1px 3px 1px rgba(0, 0, 0, 0.15);\n",
              "      filter: drop-shadow(0px 1px 2px rgba(0, 0, 0, 0.3));\n",
              "      fill: #FFFFFF;\n",
              "    }\n",
              "  </style>\n",
              "\n",
              "      <script>\n",
              "        const buttonEl =\n",
              "          document.querySelector('#df-10404beb-0b64-4fd9-8a9a-17eb4b5f9995 button.colab-df-convert');\n",
              "        buttonEl.style.display =\n",
              "          google.colab.kernel.accessAllowed ? 'block' : 'none';\n",
              "\n",
              "        async function convertToInteractive(key) {\n",
              "          const element = document.querySelector('#df-10404beb-0b64-4fd9-8a9a-17eb4b5f9995');\n",
              "          const dataTable =\n",
              "            await google.colab.kernel.invokeFunction('convertToInteractive',\n",
              "                                                     [key], {});\n",
              "          if (!dataTable) return;\n",
              "\n",
              "          const docLinkHtml = 'Like what you see? Visit the ' +\n",
              "            '<a target=\"_blank\" href=https://colab.research.google.com/notebooks/data_table.ipynb>data table notebook</a>'\n",
              "            + ' to learn more about interactive tables.';\n",
              "          element.innerHTML = '';\n",
              "          dataTable['output_type'] = 'display_data';\n",
              "          await google.colab.output.renderOutput(dataTable, element);\n",
              "          const docLink = document.createElement('div');\n",
              "          docLink.innerHTML = docLinkHtml;\n",
              "          element.appendChild(docLink);\n",
              "        }\n",
              "      </script>\n",
              "    </div>\n",
              "  </div>\n",
              "  "
            ]
          },
          "metadata": {},
          "execution_count": 35
        }
      ]
    },
    {
      "cell_type": "code",
      "source": [
        "heatmapdf['Severity'].value_counts()"
      ],
      "metadata": {
        "colab": {
          "base_uri": "https://localhost:8080/"
        },
        "id": "M14uOK8-vTqI",
        "outputId": "09573d79-3f7c-433e-d963-902a79fa6249"
      },
      "execution_count": null,
      "outputs": [
        {
          "output_type": "execute_result",
          "data": {
            "text/plain": [
              "1    169\n",
              "2    169\n",
              "3    169\n",
              "4    169\n",
              "Name: Severity, dtype: int64"
            ]
          },
          "metadata": {},
          "execution_count": 36
        }
      ]
    },
    {
      "cell_type": "code",
      "source": [
        "# Save DataFrame as a CSV file\n",
        "heatmapdf.to_csv('infradf.csv', index=False)\n",
        "# Download the CSV file\n",
        "files.download('infradf.csv')"
      ],
      "metadata": {
        "colab": {
          "base_uri": "https://localhost:8080/",
          "height": 17
        },
        "id": "INJWFS7raG9F",
        "outputId": "30622cdd-fa05-4a32-de9b-ad8b94ac1c43"
      },
      "execution_count": null,
      "outputs": [
        {
          "output_type": "display_data",
          "data": {
            "text/plain": [
              "<IPython.core.display.Javascript object>"
            ],
            "application/javascript": [
              "\n",
              "    async function download(id, filename, size) {\n",
              "      if (!google.colab.kernel.accessAllowed) {\n",
              "        return;\n",
              "      }\n",
              "      const div = document.createElement('div');\n",
              "      const label = document.createElement('label');\n",
              "      label.textContent = `Downloading \"${filename}\": `;\n",
              "      div.appendChild(label);\n",
              "      const progress = document.createElement('progress');\n",
              "      progress.max = size;\n",
              "      div.appendChild(progress);\n",
              "      document.body.appendChild(div);\n",
              "\n",
              "      const buffers = [];\n",
              "      let downloaded = 0;\n",
              "\n",
              "      const channel = await google.colab.kernel.comms.open(id);\n",
              "      // Send a message to notify the kernel that we're ready.\n",
              "      channel.send({})\n",
              "\n",
              "      for await (const message of channel.messages) {\n",
              "        // Send a message to notify the kernel that we're ready.\n",
              "        channel.send({})\n",
              "        if (message.buffers) {\n",
              "          for (const buffer of message.buffers) {\n",
              "            buffers.push(buffer);\n",
              "            downloaded += buffer.byteLength;\n",
              "            progress.value = downloaded;\n",
              "          }\n",
              "        }\n",
              "      }\n",
              "      const blob = new Blob(buffers, {type: 'application/binary'});\n",
              "      const a = document.createElement('a');\n",
              "      a.href = window.URL.createObjectURL(blob);\n",
              "      a.download = filename;\n",
              "      div.appendChild(a);\n",
              "      a.click();\n",
              "      div.remove();\n",
              "    }\n",
              "  "
            ]
          },
          "metadata": {}
        },
        {
          "output_type": "display_data",
          "data": {
            "text/plain": [
              "<IPython.core.display.Javascript object>"
            ],
            "application/javascript": [
              "download(\"download_7deef456-9bfc-482b-b619-eb1a458f3dcb\", \"infradf.csv\", 16319)"
            ]
          },
          "metadata": {}
        }
      ]
    },
    {
      "cell_type": "code",
      "source": [
        "''.join(['Amenity', 'Bump', 'Junction'])"
      ],
      "metadata": {
        "colab": {
          "base_uri": "https://localhost:8080/",
          "height": 35
        },
        "id": "r9gpja_Wt3im",
        "outputId": "4261a752-0f54-40f2-a3c5-14507aa826be"
      },
      "execution_count": null,
      "outputs": [
        {
          "output_type": "execute_result",
          "data": {
            "text/plain": [
              "'AmenityBumpJunction'"
            ],
            "application/vnd.google.colaboratory.intrinsic+json": {
              "type": "string"
            }
          },
          "metadata": {},
          "execution_count": 8
        }
      ]
    },
    {
      "cell_type": "code",
      "source": [
        "indices = list(df.index.values)\n",
        "len(indices)"
      ],
      "metadata": {
        "colab": {
          "base_uri": "https://localhost:8080/"
        },
        "id": "r_HNC2rLxmnN",
        "outputId": "588a8e6a-e633-4609-c88a-e425153164a1"
      },
      "execution_count": null,
      "outputs": [
        {
          "output_type": "execute_result",
          "data": {
            "text/plain": [
              "2845342"
            ]
          },
          "metadata": {},
          "execution_count": 9
        }
      ]
    },
    {
      "cell_type": "code",
      "source": [
        "df['infracount'] = df[['Amenity', 'Bump', 'Crossing', 'Give_Way', 'Junction', 'No_Exit', 'Railway', 'Roundabout', 'Station', 'Stop',\n",
        "            'Traffic_Calming', 'Traffic_Signal', 'Turning_Loop']].sum(axis=1)"
      ],
      "metadata": {
        "id": "ER196vmKkeF_"
      },
      "execution_count": null,
      "outputs": []
    },
    {
      "cell_type": "code",
      "source": [
        "df['infracount'].value_counts()"
      ],
      "metadata": {
        "colab": {
          "base_uri": "https://localhost:8080/"
        },
        "id": "UiBKUUi_kks-",
        "outputId": "33913ef6-1f82-4942-82c8-990b682e2ea9"
      },
      "execution_count": null,
      "outputs": [
        {
          "output_type": "execute_result",
          "data": {
            "text/plain": [
              "0    2110939\n",
              "1     565270\n",
              "2     138532\n",
              "3      26318\n",
              "4       3741\n",
              "5        490\n",
              "6         52\n",
              "Name: infracount, dtype: int64"
            ]
          },
          "metadata": {},
          "execution_count": 7
        }
      ]
    },
    {
      "cell_type": "code",
      "source": [
        "infracombo = '-'.join([])\n",
        "if infracombo != '':\n",
        "  print('Not Null')"
      ],
      "metadata": {
        "id": "IfOUJt86mBb4"
      },
      "execution_count": null,
      "outputs": []
    },
    {
      "cell_type": "code",
      "source": [
        "# dfmanyinfra = df[df['infracount']!=0]\n",
        "df['infracombo'] = np.NaN\n",
        "indices = list(df.index.values)\n",
        "infralis = ['Amenity', 'Bump', 'Crossing', 'Give_Way', 'Junction', 'No_Exit', 'Railway', 'Roundabout', 'Station', 'Stop',\n",
        "            'Traffic_Calming', 'Traffic_Signal', 'Turning_Loop']\n",
        "for idx in indices:\n",
        "  presentlis = []\n",
        "  for infra in infralis:\n",
        "    if df.at[idx,infra] == True:\n",
        "      presentlis.append(infra)\n",
        "  infracombo = '-'.join(presentlis)\n",
        "  if infracombo != '':\n",
        "    df.at[idx, 'infracombo'] = infracombo"
      ],
      "metadata": {
        "id": "1w3TaaiVj8Po"
      },
      "execution_count": null,
      "outputs": []
    },
    {
      "cell_type": "code",
      "source": [
        "df[df['infracombo']=='Amenity'].shape[0]"
      ],
      "metadata": {
        "colab": {
          "base_uri": "https://localhost:8080/"
        },
        "id": "Qx4FjT5QnXy5",
        "outputId": "4b786113-f112-4967-cc84-2379db65afca"
      },
      "execution_count": null,
      "outputs": [
        {
          "output_type": "execute_result",
          "data": {
            "text/plain": [
              "10461"
            ]
          },
          "metadata": {},
          "execution_count": 8
        }
      ]
    },
    {
      "cell_type": "code",
      "source": [
        "df[(df['Amenity'] == False) & (df['Bump'] == False) & (df['Crossing'] == False) & (df['Give_Way'] == False) &\n",
        " (df['Junction'] == False) & (df['No_Exit'] == False) & (df['Railway'] == False) & (df['Roundabout'] == False) &\n",
        "  (df['Station'] == False) & (df['Stop'] == True) & (df['Traffic_Calming'] == False) & (df['Traffic_Signal'] == False) &\n",
        "   (df['Turning_Loop'] == False)].shape[0]\n"
      ],
      "metadata": {
        "colab": {
          "base_uri": "https://localhost:8080/"
        },
        "id": "eGXANniJnejt",
        "outputId": "b6743037-491f-4f89-86ac-61ffa2f1a938"
      },
      "execution_count": null,
      "outputs": [
        {
          "output_type": "execute_result",
          "data": {
            "text/plain": [
              "34139"
            ]
          },
          "metadata": {},
          "execution_count": 19
        }
      ]
    },
    {
      "cell_type": "code",
      "source": [
        "df.shape[0]"
      ],
      "metadata": {
        "colab": {
          "base_uri": "https://localhost:8080/"
        },
        "id": "Evr5ZUa1rDMx",
        "outputId": "6113a2ca-fdf8-4030-e6ad-29a77d39481b"
      },
      "execution_count": null,
      "outputs": [
        {
          "output_type": "execute_result",
          "data": {
            "text/plain": [
              "2845342"
            ]
          },
          "metadata": {},
          "execution_count": 18
        }
      ]
    },
    {
      "cell_type": "code",
      "source": [
        "df['infracombo'].value_counts()"
      ],
      "metadata": {
        "colab": {
          "base_uri": "https://localhost:8080/"
        },
        "id": "itJTXJjrlx-S",
        "outputId": "81dab8bf-dcf2-43a1-a076-54ffa2f7856b"
      },
      "execution_count": null,
      "outputs": [
        {
          "output_type": "execute_result",
          "data": {
            "text/plain": [
              "Junction                                                    281724\n",
              "Traffic_Signal                                              140555\n",
              "Crossing-Traffic_Signal                                      84938\n",
              "Crossing                                                     59231\n",
              "Stop                                                         34139\n",
              "                                                             ...  \n",
              "Crossing-Give_Way-Junction-Roundabout                            1\n",
              "Crossing-Station-Stop-Traffic_Calming-Traffic_Signal             1\n",
              "Amenity-Crossing-Station-Traffic_Calming                         1\n",
              "Amenity-Bump-Crossing-Traffic_Calming-Traffic_Signal             1\n",
              "Amenity-Give_Way-Junction-Railway-Station-Traffic_Signal         1\n",
              "Name: infracombo, Length: 252, dtype: int64"
            ]
          },
          "metadata": {},
          "execution_count": 14
        }
      ]
    },
    {
      "cell_type": "code",
      "source": [
        "df.columns"
      ],
      "metadata": {
        "colab": {
          "base_uri": "https://localhost:8080/"
        },
        "id": "kgb8_PM-l1l6",
        "outputId": "4cba220e-51b7-481b-8447-60c0df6475f6"
      },
      "execution_count": null,
      "outputs": [
        {
          "output_type": "execute_result",
          "data": {
            "text/plain": [
              "Index(['ID', 'Severity', 'Start_Time', 'End_Time', 'Start_Lat', 'Start_Lng',\n",
              "       'End_Lat', 'End_Lng', 'Distance(mi)', 'Description', 'Street', 'Side',\n",
              "       'City', 'County', 'State', 'Zipcode', 'Country', 'Timezone',\n",
              "       'Airport_Code', 'Weather_Timestamp', 'Temperature(F)', 'Humidity(%)',\n",
              "       'Pressure(in)', 'Visibility(mi)', 'Wind_Direction', 'Wind_Speed(mph)',\n",
              "       'Weather_Condition', 'Amenity', 'Bump', 'Crossing', 'Give_Way',\n",
              "       'Junction', 'No_Exit', 'Railway', 'Roundabout', 'Station', 'Stop',\n",
              "       'Traffic_Calming', 'Traffic_Signal', 'Turning_Loop', 'Sunrise_Sunset',\n",
              "       'Civil_Twilight', 'Nautical_Twilight', 'Astronomical_Twilight',\n",
              "       'infracount', 'infracombo'],\n",
              "      dtype='object')"
            ]
          },
          "metadata": {},
          "execution_count": 15
        }
      ]
    },
    {
      "cell_type": "code",
      "source": [
        "# Save DataFrame as a CSV file\n",
        "df.to_csv('us_accidents_2.csv', index=False)\n",
        "# Download the CSV file\n",
        "files.download('us_accidents_2.csv')"
      ],
      "metadata": {
        "colab": {
          "base_uri": "https://localhost:8080/",
          "height": 34
        },
        "id": "GKwdT8ICrL47",
        "outputId": "aff7804e-0616-49da-a704-3340d3546a4a"
      },
      "execution_count": null,
      "outputs": [
        {
          "output_type": "display_data",
          "data": {
            "text/plain": [
              "<IPython.core.display.Javascript object>"
            ],
            "application/javascript": [
              "\n",
              "    async function download(id, filename, size) {\n",
              "      if (!google.colab.kernel.accessAllowed) {\n",
              "        return;\n",
              "      }\n",
              "      const div = document.createElement('div');\n",
              "      const label = document.createElement('label');\n",
              "      label.textContent = `Downloading \"${filename}\": `;\n",
              "      div.appendChild(label);\n",
              "      const progress = document.createElement('progress');\n",
              "      progress.max = size;\n",
              "      div.appendChild(progress);\n",
              "      document.body.appendChild(div);\n",
              "\n",
              "      const buffers = [];\n",
              "      let downloaded = 0;\n",
              "\n",
              "      const channel = await google.colab.kernel.comms.open(id);\n",
              "      // Send a message to notify the kernel that we're ready.\n",
              "      channel.send({})\n",
              "\n",
              "      for await (const message of channel.messages) {\n",
              "        // Send a message to notify the kernel that we're ready.\n",
              "        channel.send({})\n",
              "        if (message.buffers) {\n",
              "          for (const buffer of message.buffers) {\n",
              "            buffers.push(buffer);\n",
              "            downloaded += buffer.byteLength;\n",
              "            progress.value = downloaded;\n",
              "          }\n",
              "        }\n",
              "      }\n",
              "      const blob = new Blob(buffers, {type: 'application/binary'});\n",
              "      const a = document.createElement('a');\n",
              "      a.href = window.URL.createObjectURL(blob);\n",
              "      a.download = filename;\n",
              "      div.appendChild(a);\n",
              "      a.click();\n",
              "      div.remove();\n",
              "    }\n",
              "  "
            ]
          },
          "metadata": {}
        },
        {
          "output_type": "display_data",
          "data": {
            "text/plain": [
              "<IPython.core.display.Javascript object>"
            ],
            "application/javascript": [
              "download(\"download_14262d46-313c-4c11-b52f-31baf887776d\", \"us_accidents_2.csv\", 1133947535)"
            ]
          },
          "metadata": {}
        }
      ]
    },
    {
      "cell_type": "code",
      "source": [
        "df[df['Amenity']==True].shape[0]"
      ],
      "metadata": {
        "colab": {
          "base_uri": "https://localhost:8080/"
        },
        "id": "Vsn1A20dlIt1",
        "outputId": "0c4dfe57-7215-4445-a560-849a450311d6"
      },
      "execution_count": null,
      "outputs": [
        {
          "output_type": "execute_result",
          "data": {
            "text/plain": [
              "27990"
            ]
          },
          "metadata": {},
          "execution_count": 6
        }
      ]
    },
    {
      "cell_type": "code",
      "source": [
        "df[(df['Amenity']==True) & (df['No_Exit']==True)].shape[0]"
      ],
      "metadata": {
        "colab": {
          "base_uri": "https://localhost:8080/"
        },
        "id": "unh6MlhvknZP",
        "outputId": "d4d5fe6e-46e1-419a-9419-289e11298216"
      },
      "execution_count": null,
      "outputs": [
        {
          "output_type": "execute_result",
          "data": {
            "text/plain": [
              "185"
            ]
          },
          "metadata": {},
          "execution_count": 5
        }
      ]
    },
    {
      "cell_type": "code",
      "source": [
        "indices = list(df.index.values)\n",
        "infralis = ['Amenity', 'Bump', 'Crossing', 'Give_Way', 'Junction', 'No_Exit', 'Railway', 'Roundabout', 'Station', 'Stop',\n",
        "            'Traffic_Calming', 'Traffic_Signal', 'Turning_Loop']\n",
        "\n",
        "multipleinfradf = pd.DataFrame(columns=['Infra_Combo', 'Accident_Cases'])\n",
        "\n",
        "for idx in indices:\n",
        "  presentlis = []\n",
        "  for infra in infralis:\n",
        "    if df.at[idx, infra] == True:\n",
        "      presentlis.append(infra)\n",
        "  infracombo = ', '.join(presentlis)\n",
        "  if len(presentlis) == 0:\n",
        "    continue\n",
        "  if infracombo in multipleinfradf['Infra_Combo'].unique():\n",
        "    comboidx = multipleinfradf[multipleinfradf['Infra_Combo']==infracombo].index[0]\n",
        "    currentcount = multipleinfradf.at[comboidx, 'Accident_Cases']\n",
        "    #update this count\n",
        "    multipleinfradf.at[idx, 'Accident_Cases'] = currentcount + 1\n",
        "  else:\n",
        "    newrow = {'Infra_Combo': infracombo, 'Accident_Cases': 1}\n",
        "    multipleinfradf = multipleinfradf.append(newrow, ignore_index=True)\n",
        "\n",
        "multipleinfradf.to_csv('infracombodf.csv', index=False)"
      ],
      "metadata": {
        "colab": {
          "base_uri": "https://localhost:8080/",
          "height": 1000
        },
        "id": "mzbtIdm1q6SY",
        "outputId": "fa366899-5916-4267-a9d5-48163677baff"
      },
      "execution_count": null,
      "outputs": [
        {
          "output_type": "stream",
          "name": "stderr",
          "text": [
            "<ipython-input-4-6690f3e896c0>:22: FutureWarning: The frame.append method is deprecated and will be removed from pandas in a future version. Use pandas.concat instead.\n",
            "  multipleinfradf = multipleinfradf.append(newrow, ignore_index=True)\n",
            "<ipython-input-4-6690f3e896c0>:22: FutureWarning: The frame.append method is deprecated and will be removed from pandas in a future version. Use pandas.concat instead.\n",
            "  multipleinfradf = multipleinfradf.append(newrow, ignore_index=True)\n",
            "<ipython-input-4-6690f3e896c0>:22: FutureWarning: The frame.append method is deprecated and will be removed from pandas in a future version. Use pandas.concat instead.\n",
            "  multipleinfradf = multipleinfradf.append(newrow, ignore_index=True)\n",
            "<ipython-input-4-6690f3e896c0>:22: FutureWarning: The frame.append method is deprecated and will be removed from pandas in a future version. Use pandas.concat instead.\n",
            "  multipleinfradf = multipleinfradf.append(newrow, ignore_index=True)\n",
            "<ipython-input-4-6690f3e896c0>:22: FutureWarning: The frame.append method is deprecated and will be removed from pandas in a future version. Use pandas.concat instead.\n",
            "  multipleinfradf = multipleinfradf.append(newrow, ignore_index=True)\n",
            "<ipython-input-4-6690f3e896c0>:22: FutureWarning: The frame.append method is deprecated and will be removed from pandas in a future version. Use pandas.concat instead.\n",
            "  multipleinfradf = multipleinfradf.append(newrow, ignore_index=True)\n",
            "<ipython-input-4-6690f3e896c0>:22: FutureWarning: The frame.append method is deprecated and will be removed from pandas in a future version. Use pandas.concat instead.\n",
            "  multipleinfradf = multipleinfradf.append(newrow, ignore_index=True)\n",
            "<ipython-input-4-6690f3e896c0>:22: FutureWarning: The frame.append method is deprecated and will be removed from pandas in a future version. Use pandas.concat instead.\n",
            "  multipleinfradf = multipleinfradf.append(newrow, ignore_index=True)\n",
            "<ipython-input-4-6690f3e896c0>:22: FutureWarning: The frame.append method is deprecated and will be removed from pandas in a future version. Use pandas.concat instead.\n",
            "  multipleinfradf = multipleinfradf.append(newrow, ignore_index=True)\n",
            "<ipython-input-4-6690f3e896c0>:22: FutureWarning: The frame.append method is deprecated and will be removed from pandas in a future version. Use pandas.concat instead.\n",
            "  multipleinfradf = multipleinfradf.append(newrow, ignore_index=True)\n",
            "<ipython-input-4-6690f3e896c0>:22: FutureWarning: The frame.append method is deprecated and will be removed from pandas in a future version. Use pandas.concat instead.\n",
            "  multipleinfradf = multipleinfradf.append(newrow, ignore_index=True)\n",
            "<ipython-input-4-6690f3e896c0>:22: FutureWarning: The frame.append method is deprecated and will be removed from pandas in a future version. Use pandas.concat instead.\n",
            "  multipleinfradf = multipleinfradf.append(newrow, ignore_index=True)\n",
            "<ipython-input-4-6690f3e896c0>:22: FutureWarning: The frame.append method is deprecated and will be removed from pandas in a future version. Use pandas.concat instead.\n",
            "  multipleinfradf = multipleinfradf.append(newrow, ignore_index=True)\n",
            "<ipython-input-4-6690f3e896c0>:22: FutureWarning: The frame.append method is deprecated and will be removed from pandas in a future version. Use pandas.concat instead.\n",
            "  multipleinfradf = multipleinfradf.append(newrow, ignore_index=True)\n",
            "<ipython-input-4-6690f3e896c0>:22: FutureWarning: The frame.append method is deprecated and will be removed from pandas in a future version. Use pandas.concat instead.\n",
            "  multipleinfradf = multipleinfradf.append(newrow, ignore_index=True)\n",
            "<ipython-input-4-6690f3e896c0>:22: FutureWarning: The frame.append method is deprecated and will be removed from pandas in a future version. Use pandas.concat instead.\n",
            "  multipleinfradf = multipleinfradf.append(newrow, ignore_index=True)\n",
            "<ipython-input-4-6690f3e896c0>:22: FutureWarning: The frame.append method is deprecated and will be removed from pandas in a future version. Use pandas.concat instead.\n",
            "  multipleinfradf = multipleinfradf.append(newrow, ignore_index=True)\n",
            "<ipython-input-4-6690f3e896c0>:22: FutureWarning: The frame.append method is deprecated and will be removed from pandas in a future version. Use pandas.concat instead.\n",
            "  multipleinfradf = multipleinfradf.append(newrow, ignore_index=True)\n",
            "<ipython-input-4-6690f3e896c0>:22: FutureWarning: The frame.append method is deprecated and will be removed from pandas in a future version. Use pandas.concat instead.\n",
            "  multipleinfradf = multipleinfradf.append(newrow, ignore_index=True)\n",
            "<ipython-input-4-6690f3e896c0>:22: FutureWarning: The frame.append method is deprecated and will be removed from pandas in a future version. Use pandas.concat instead.\n",
            "  multipleinfradf = multipleinfradf.append(newrow, ignore_index=True)\n",
            "<ipython-input-4-6690f3e896c0>:22: FutureWarning: The frame.append method is deprecated and will be removed from pandas in a future version. Use pandas.concat instead.\n",
            "  multipleinfradf = multipleinfradf.append(newrow, ignore_index=True)\n",
            "<ipython-input-4-6690f3e896c0>:22: FutureWarning: The frame.append method is deprecated and will be removed from pandas in a future version. Use pandas.concat instead.\n",
            "  multipleinfradf = multipleinfradf.append(newrow, ignore_index=True)\n",
            "<ipython-input-4-6690f3e896c0>:22: FutureWarning: The frame.append method is deprecated and will be removed from pandas in a future version. Use pandas.concat instead.\n",
            "  multipleinfradf = multipleinfradf.append(newrow, ignore_index=True)\n",
            "<ipython-input-4-6690f3e896c0>:22: FutureWarning: The frame.append method is deprecated and will be removed from pandas in a future version. Use pandas.concat instead.\n",
            "  multipleinfradf = multipleinfradf.append(newrow, ignore_index=True)\n",
            "<ipython-input-4-6690f3e896c0>:22: FutureWarning: The frame.append method is deprecated and will be removed from pandas in a future version. Use pandas.concat instead.\n",
            "  multipleinfradf = multipleinfradf.append(newrow, ignore_index=True)\n",
            "<ipython-input-4-6690f3e896c0>:22: FutureWarning: The frame.append method is deprecated and will be removed from pandas in a future version. Use pandas.concat instead.\n",
            "  multipleinfradf = multipleinfradf.append(newrow, ignore_index=True)\n",
            "<ipython-input-4-6690f3e896c0>:22: FutureWarning: The frame.append method is deprecated and will be removed from pandas in a future version. Use pandas.concat instead.\n",
            "  multipleinfradf = multipleinfradf.append(newrow, ignore_index=True)\n",
            "<ipython-input-4-6690f3e896c0>:22: FutureWarning: The frame.append method is deprecated and will be removed from pandas in a future version. Use pandas.concat instead.\n",
            "  multipleinfradf = multipleinfradf.append(newrow, ignore_index=True)\n",
            "<ipython-input-4-6690f3e896c0>:22: FutureWarning: The frame.append method is deprecated and will be removed from pandas in a future version. Use pandas.concat instead.\n",
            "  multipleinfradf = multipleinfradf.append(newrow, ignore_index=True)\n",
            "<ipython-input-4-6690f3e896c0>:22: FutureWarning: The frame.append method is deprecated and will be removed from pandas in a future version. Use pandas.concat instead.\n",
            "  multipleinfradf = multipleinfradf.append(newrow, ignore_index=True)\n",
            "<ipython-input-4-6690f3e896c0>:22: FutureWarning: The frame.append method is deprecated and will be removed from pandas in a future version. Use pandas.concat instead.\n",
            "  multipleinfradf = multipleinfradf.append(newrow, ignore_index=True)\n",
            "<ipython-input-4-6690f3e896c0>:22: FutureWarning: The frame.append method is deprecated and will be removed from pandas in a future version. Use pandas.concat instead.\n",
            "  multipleinfradf = multipleinfradf.append(newrow, ignore_index=True)\n",
            "<ipython-input-4-6690f3e896c0>:22: FutureWarning: The frame.append method is deprecated and will be removed from pandas in a future version. Use pandas.concat instead.\n",
            "  multipleinfradf = multipleinfradf.append(newrow, ignore_index=True)\n",
            "<ipython-input-4-6690f3e896c0>:22: FutureWarning: The frame.append method is deprecated and will be removed from pandas in a future version. Use pandas.concat instead.\n",
            "  multipleinfradf = multipleinfradf.append(newrow, ignore_index=True)\n",
            "<ipython-input-4-6690f3e896c0>:22: FutureWarning: The frame.append method is deprecated and will be removed from pandas in a future version. Use pandas.concat instead.\n",
            "  multipleinfradf = multipleinfradf.append(newrow, ignore_index=True)\n",
            "<ipython-input-4-6690f3e896c0>:22: FutureWarning: The frame.append method is deprecated and will be removed from pandas in a future version. Use pandas.concat instead.\n",
            "  multipleinfradf = multipleinfradf.append(newrow, ignore_index=True)\n",
            "<ipython-input-4-6690f3e896c0>:22: FutureWarning: The frame.append method is deprecated and will be removed from pandas in a future version. Use pandas.concat instead.\n",
            "  multipleinfradf = multipleinfradf.append(newrow, ignore_index=True)\n",
            "<ipython-input-4-6690f3e896c0>:22: FutureWarning: The frame.append method is deprecated and will be removed from pandas in a future version. Use pandas.concat instead.\n",
            "  multipleinfradf = multipleinfradf.append(newrow, ignore_index=True)\n",
            "<ipython-input-4-6690f3e896c0>:22: FutureWarning: The frame.append method is deprecated and will be removed from pandas in a future version. Use pandas.concat instead.\n",
            "  multipleinfradf = multipleinfradf.append(newrow, ignore_index=True)\n",
            "<ipython-input-4-6690f3e896c0>:22: FutureWarning: The frame.append method is deprecated and will be removed from pandas in a future version. Use pandas.concat instead.\n",
            "  multipleinfradf = multipleinfradf.append(newrow, ignore_index=True)\n",
            "<ipython-input-4-6690f3e896c0>:22: FutureWarning: The frame.append method is deprecated and will be removed from pandas in a future version. Use pandas.concat instead.\n",
            "  multipleinfradf = multipleinfradf.append(newrow, ignore_index=True)\n",
            "<ipython-input-4-6690f3e896c0>:22: FutureWarning: The frame.append method is deprecated and will be removed from pandas in a future version. Use pandas.concat instead.\n",
            "  multipleinfradf = multipleinfradf.append(newrow, ignore_index=True)\n",
            "<ipython-input-4-6690f3e896c0>:22: FutureWarning: The frame.append method is deprecated and will be removed from pandas in a future version. Use pandas.concat instead.\n",
            "  multipleinfradf = multipleinfradf.append(newrow, ignore_index=True)\n",
            "<ipython-input-4-6690f3e896c0>:22: FutureWarning: The frame.append method is deprecated and will be removed from pandas in a future version. Use pandas.concat instead.\n",
            "  multipleinfradf = multipleinfradf.append(newrow, ignore_index=True)\n",
            "<ipython-input-4-6690f3e896c0>:22: FutureWarning: The frame.append method is deprecated and will be removed from pandas in a future version. Use pandas.concat instead.\n",
            "  multipleinfradf = multipleinfradf.append(newrow, ignore_index=True)\n",
            "<ipython-input-4-6690f3e896c0>:22: FutureWarning: The frame.append method is deprecated and will be removed from pandas in a future version. Use pandas.concat instead.\n",
            "  multipleinfradf = multipleinfradf.append(newrow, ignore_index=True)\n",
            "<ipython-input-4-6690f3e896c0>:22: FutureWarning: The frame.append method is deprecated and will be removed from pandas in a future version. Use pandas.concat instead.\n",
            "  multipleinfradf = multipleinfradf.append(newrow, ignore_index=True)\n",
            "<ipython-input-4-6690f3e896c0>:22: FutureWarning: The frame.append method is deprecated and will be removed from pandas in a future version. Use pandas.concat instead.\n",
            "  multipleinfradf = multipleinfradf.append(newrow, ignore_index=True)\n",
            "<ipython-input-4-6690f3e896c0>:22: FutureWarning: The frame.append method is deprecated and will be removed from pandas in a future version. Use pandas.concat instead.\n",
            "  multipleinfradf = multipleinfradf.append(newrow, ignore_index=True)\n",
            "<ipython-input-4-6690f3e896c0>:22: FutureWarning: The frame.append method is deprecated and will be removed from pandas in a future version. Use pandas.concat instead.\n",
            "  multipleinfradf = multipleinfradf.append(newrow, ignore_index=True)\n",
            "<ipython-input-4-6690f3e896c0>:22: FutureWarning: The frame.append method is deprecated and will be removed from pandas in a future version. Use pandas.concat instead.\n",
            "  multipleinfradf = multipleinfradf.append(newrow, ignore_index=True)\n",
            "<ipython-input-4-6690f3e896c0>:22: FutureWarning: The frame.append method is deprecated and will be removed from pandas in a future version. Use pandas.concat instead.\n",
            "  multipleinfradf = multipleinfradf.append(newrow, ignore_index=True)\n",
            "<ipython-input-4-6690f3e896c0>:22: FutureWarning: The frame.append method is deprecated and will be removed from pandas in a future version. Use pandas.concat instead.\n",
            "  multipleinfradf = multipleinfradf.append(newrow, ignore_index=True)\n",
            "<ipython-input-4-6690f3e896c0>:22: FutureWarning: The frame.append method is deprecated and will be removed from pandas in a future version. Use pandas.concat instead.\n",
            "  multipleinfradf = multipleinfradf.append(newrow, ignore_index=True)\n",
            "<ipython-input-4-6690f3e896c0>:22: FutureWarning: The frame.append method is deprecated and will be removed from pandas in a future version. Use pandas.concat instead.\n",
            "  multipleinfradf = multipleinfradf.append(newrow, ignore_index=True)\n",
            "<ipython-input-4-6690f3e896c0>:22: FutureWarning: The frame.append method is deprecated and will be removed from pandas in a future version. Use pandas.concat instead.\n",
            "  multipleinfradf = multipleinfradf.append(newrow, ignore_index=True)\n",
            "<ipython-input-4-6690f3e896c0>:22: FutureWarning: The frame.append method is deprecated and will be removed from pandas in a future version. Use pandas.concat instead.\n",
            "  multipleinfradf = multipleinfradf.append(newrow, ignore_index=True)\n",
            "<ipython-input-4-6690f3e896c0>:22: FutureWarning: The frame.append method is deprecated and will be removed from pandas in a future version. Use pandas.concat instead.\n",
            "  multipleinfradf = multipleinfradf.append(newrow, ignore_index=True)\n",
            "<ipython-input-4-6690f3e896c0>:22: FutureWarning: The frame.append method is deprecated and will be removed from pandas in a future version. Use pandas.concat instead.\n",
            "  multipleinfradf = multipleinfradf.append(newrow, ignore_index=True)\n",
            "<ipython-input-4-6690f3e896c0>:22: FutureWarning: The frame.append method is deprecated and will be removed from pandas in a future version. Use pandas.concat instead.\n",
            "  multipleinfradf = multipleinfradf.append(newrow, ignore_index=True)\n",
            "<ipython-input-4-6690f3e896c0>:22: FutureWarning: The frame.append method is deprecated and will be removed from pandas in a future version. Use pandas.concat instead.\n",
            "  multipleinfradf = multipleinfradf.append(newrow, ignore_index=True)\n",
            "<ipython-input-4-6690f3e896c0>:22: FutureWarning: The frame.append method is deprecated and will be removed from pandas in a future version. Use pandas.concat instead.\n",
            "  multipleinfradf = multipleinfradf.append(newrow, ignore_index=True)\n",
            "<ipython-input-4-6690f3e896c0>:22: FutureWarning: The frame.append method is deprecated and will be removed from pandas in a future version. Use pandas.concat instead.\n",
            "  multipleinfradf = multipleinfradf.append(newrow, ignore_index=True)\n",
            "<ipython-input-4-6690f3e896c0>:22: FutureWarning: The frame.append method is deprecated and will be removed from pandas in a future version. Use pandas.concat instead.\n",
            "  multipleinfradf = multipleinfradf.append(newrow, ignore_index=True)\n",
            "<ipython-input-4-6690f3e896c0>:22: FutureWarning: The frame.append method is deprecated and will be removed from pandas in a future version. Use pandas.concat instead.\n",
            "  multipleinfradf = multipleinfradf.append(newrow, ignore_index=True)\n",
            "<ipython-input-4-6690f3e896c0>:22: FutureWarning: The frame.append method is deprecated and will be removed from pandas in a future version. Use pandas.concat instead.\n",
            "  multipleinfradf = multipleinfradf.append(newrow, ignore_index=True)\n",
            "<ipython-input-4-6690f3e896c0>:22: FutureWarning: The frame.append method is deprecated and will be removed from pandas in a future version. Use pandas.concat instead.\n",
            "  multipleinfradf = multipleinfradf.append(newrow, ignore_index=True)\n",
            "<ipython-input-4-6690f3e896c0>:22: FutureWarning: The frame.append method is deprecated and will be removed from pandas in a future version. Use pandas.concat instead.\n",
            "  multipleinfradf = multipleinfradf.append(newrow, ignore_index=True)\n",
            "<ipython-input-4-6690f3e896c0>:22: FutureWarning: The frame.append method is deprecated and will be removed from pandas in a future version. Use pandas.concat instead.\n",
            "  multipleinfradf = multipleinfradf.append(newrow, ignore_index=True)\n",
            "<ipython-input-4-6690f3e896c0>:22: FutureWarning: The frame.append method is deprecated and will be removed from pandas in a future version. Use pandas.concat instead.\n",
            "  multipleinfradf = multipleinfradf.append(newrow, ignore_index=True)\n",
            "<ipython-input-4-6690f3e896c0>:22: FutureWarning: The frame.append method is deprecated and will be removed from pandas in a future version. Use pandas.concat instead.\n",
            "  multipleinfradf = multipleinfradf.append(newrow, ignore_index=True)\n",
            "<ipython-input-4-6690f3e896c0>:22: FutureWarning: The frame.append method is deprecated and will be removed from pandas in a future version. Use pandas.concat instead.\n",
            "  multipleinfradf = multipleinfradf.append(newrow, ignore_index=True)\n",
            "<ipython-input-4-6690f3e896c0>:22: FutureWarning: The frame.append method is deprecated and will be removed from pandas in a future version. Use pandas.concat instead.\n",
            "  multipleinfradf = multipleinfradf.append(newrow, ignore_index=True)\n",
            "<ipython-input-4-6690f3e896c0>:22: FutureWarning: The frame.append method is deprecated and will be removed from pandas in a future version. Use pandas.concat instead.\n",
            "  multipleinfradf = multipleinfradf.append(newrow, ignore_index=True)\n",
            "<ipython-input-4-6690f3e896c0>:22: FutureWarning: The frame.append method is deprecated and will be removed from pandas in a future version. Use pandas.concat instead.\n",
            "  multipleinfradf = multipleinfradf.append(newrow, ignore_index=True)\n",
            "<ipython-input-4-6690f3e896c0>:22: FutureWarning: The frame.append method is deprecated and will be removed from pandas in a future version. Use pandas.concat instead.\n",
            "  multipleinfradf = multipleinfradf.append(newrow, ignore_index=True)\n",
            "<ipython-input-4-6690f3e896c0>:22: FutureWarning: The frame.append method is deprecated and will be removed from pandas in a future version. Use pandas.concat instead.\n",
            "  multipleinfradf = multipleinfradf.append(newrow, ignore_index=True)\n",
            "<ipython-input-4-6690f3e896c0>:22: FutureWarning: The frame.append method is deprecated and will be removed from pandas in a future version. Use pandas.concat instead.\n",
            "  multipleinfradf = multipleinfradf.append(newrow, ignore_index=True)\n",
            "<ipython-input-4-6690f3e896c0>:22: FutureWarning: The frame.append method is deprecated and will be removed from pandas in a future version. Use pandas.concat instead.\n",
            "  multipleinfradf = multipleinfradf.append(newrow, ignore_index=True)\n",
            "<ipython-input-4-6690f3e896c0>:22: FutureWarning: The frame.append method is deprecated and will be removed from pandas in a future version. Use pandas.concat instead.\n",
            "  multipleinfradf = multipleinfradf.append(newrow, ignore_index=True)\n",
            "<ipython-input-4-6690f3e896c0>:22: FutureWarning: The frame.append method is deprecated and will be removed from pandas in a future version. Use pandas.concat instead.\n",
            "  multipleinfradf = multipleinfradf.append(newrow, ignore_index=True)\n",
            "<ipython-input-4-6690f3e896c0>:22: FutureWarning: The frame.append method is deprecated and will be removed from pandas in a future version. Use pandas.concat instead.\n",
            "  multipleinfradf = multipleinfradf.append(newrow, ignore_index=True)\n",
            "<ipython-input-4-6690f3e896c0>:22: FutureWarning: The frame.append method is deprecated and will be removed from pandas in a future version. Use pandas.concat instead.\n",
            "  multipleinfradf = multipleinfradf.append(newrow, ignore_index=True)\n",
            "<ipython-input-4-6690f3e896c0>:22: FutureWarning: The frame.append method is deprecated and will be removed from pandas in a future version. Use pandas.concat instead.\n",
            "  multipleinfradf = multipleinfradf.append(newrow, ignore_index=True)\n",
            "<ipython-input-4-6690f3e896c0>:22: FutureWarning: The frame.append method is deprecated and will be removed from pandas in a future version. Use pandas.concat instead.\n",
            "  multipleinfradf = multipleinfradf.append(newrow, ignore_index=True)\n",
            "<ipython-input-4-6690f3e896c0>:22: FutureWarning: The frame.append method is deprecated and will be removed from pandas in a future version. Use pandas.concat instead.\n",
            "  multipleinfradf = multipleinfradf.append(newrow, ignore_index=True)\n",
            "<ipython-input-4-6690f3e896c0>:22: FutureWarning: The frame.append method is deprecated and will be removed from pandas in a future version. Use pandas.concat instead.\n",
            "  multipleinfradf = multipleinfradf.append(newrow, ignore_index=True)\n",
            "<ipython-input-4-6690f3e896c0>:22: FutureWarning: The frame.append method is deprecated and will be removed from pandas in a future version. Use pandas.concat instead.\n",
            "  multipleinfradf = multipleinfradf.append(newrow, ignore_index=True)\n",
            "<ipython-input-4-6690f3e896c0>:22: FutureWarning: The frame.append method is deprecated and will be removed from pandas in a future version. Use pandas.concat instead.\n",
            "  multipleinfradf = multipleinfradf.append(newrow, ignore_index=True)\n",
            "<ipython-input-4-6690f3e896c0>:22: FutureWarning: The frame.append method is deprecated and will be removed from pandas in a future version. Use pandas.concat instead.\n",
            "  multipleinfradf = multipleinfradf.append(newrow, ignore_index=True)\n",
            "<ipython-input-4-6690f3e896c0>:22: FutureWarning: The frame.append method is deprecated and will be removed from pandas in a future version. Use pandas.concat instead.\n",
            "  multipleinfradf = multipleinfradf.append(newrow, ignore_index=True)\n",
            "<ipython-input-4-6690f3e896c0>:22: FutureWarning: The frame.append method is deprecated and will be removed from pandas in a future version. Use pandas.concat instead.\n",
            "  multipleinfradf = multipleinfradf.append(newrow, ignore_index=True)\n",
            "<ipython-input-4-6690f3e896c0>:22: FutureWarning: The frame.append method is deprecated and will be removed from pandas in a future version. Use pandas.concat instead.\n",
            "  multipleinfradf = multipleinfradf.append(newrow, ignore_index=True)\n",
            "<ipython-input-4-6690f3e896c0>:22: FutureWarning: The frame.append method is deprecated and will be removed from pandas in a future version. Use pandas.concat instead.\n",
            "  multipleinfradf = multipleinfradf.append(newrow, ignore_index=True)\n",
            "<ipython-input-4-6690f3e896c0>:22: FutureWarning: The frame.append method is deprecated and will be removed from pandas in a future version. Use pandas.concat instead.\n",
            "  multipleinfradf = multipleinfradf.append(newrow, ignore_index=True)\n",
            "<ipython-input-4-6690f3e896c0>:22: FutureWarning: The frame.append method is deprecated and will be removed from pandas in a future version. Use pandas.concat instead.\n",
            "  multipleinfradf = multipleinfradf.append(newrow, ignore_index=True)\n",
            "<ipython-input-4-6690f3e896c0>:22: FutureWarning: The frame.append method is deprecated and will be removed from pandas in a future version. Use pandas.concat instead.\n",
            "  multipleinfradf = multipleinfradf.append(newrow, ignore_index=True)\n",
            "<ipython-input-4-6690f3e896c0>:22: FutureWarning: The frame.append method is deprecated and will be removed from pandas in a future version. Use pandas.concat instead.\n",
            "  multipleinfradf = multipleinfradf.append(newrow, ignore_index=True)\n",
            "<ipython-input-4-6690f3e896c0>:22: FutureWarning: The frame.append method is deprecated and will be removed from pandas in a future version. Use pandas.concat instead.\n",
            "  multipleinfradf = multipleinfradf.append(newrow, ignore_index=True)\n",
            "<ipython-input-4-6690f3e896c0>:22: FutureWarning: The frame.append method is deprecated and will be removed from pandas in a future version. Use pandas.concat instead.\n",
            "  multipleinfradf = multipleinfradf.append(newrow, ignore_index=True)\n",
            "<ipython-input-4-6690f3e896c0>:22: FutureWarning: The frame.append method is deprecated and will be removed from pandas in a future version. Use pandas.concat instead.\n",
            "  multipleinfradf = multipleinfradf.append(newrow, ignore_index=True)\n",
            "<ipython-input-4-6690f3e896c0>:22: FutureWarning: The frame.append method is deprecated and will be removed from pandas in a future version. Use pandas.concat instead.\n",
            "  multipleinfradf = multipleinfradf.append(newrow, ignore_index=True)\n",
            "<ipython-input-4-6690f3e896c0>:22: FutureWarning: The frame.append method is deprecated and will be removed from pandas in a future version. Use pandas.concat instead.\n",
            "  multipleinfradf = multipleinfradf.append(newrow, ignore_index=True)\n",
            "<ipython-input-4-6690f3e896c0>:22: FutureWarning: The frame.append method is deprecated and will be removed from pandas in a future version. Use pandas.concat instead.\n",
            "  multipleinfradf = multipleinfradf.append(newrow, ignore_index=True)\n",
            "<ipython-input-4-6690f3e896c0>:22: FutureWarning: The frame.append method is deprecated and will be removed from pandas in a future version. Use pandas.concat instead.\n",
            "  multipleinfradf = multipleinfradf.append(newrow, ignore_index=True)\n",
            "<ipython-input-4-6690f3e896c0>:22: FutureWarning: The frame.append method is deprecated and will be removed from pandas in a future version. Use pandas.concat instead.\n",
            "  multipleinfradf = multipleinfradf.append(newrow, ignore_index=True)\n",
            "<ipython-input-4-6690f3e896c0>:22: FutureWarning: The frame.append method is deprecated and will be removed from pandas in a future version. Use pandas.concat instead.\n",
            "  multipleinfradf = multipleinfradf.append(newrow, ignore_index=True)\n",
            "<ipython-input-4-6690f3e896c0>:22: FutureWarning: The frame.append method is deprecated and will be removed from pandas in a future version. Use pandas.concat instead.\n",
            "  multipleinfradf = multipleinfradf.append(newrow, ignore_index=True)\n",
            "<ipython-input-4-6690f3e896c0>:22: FutureWarning: The frame.append method is deprecated and will be removed from pandas in a future version. Use pandas.concat instead.\n",
            "  multipleinfradf = multipleinfradf.append(newrow, ignore_index=True)\n",
            "<ipython-input-4-6690f3e896c0>:22: FutureWarning: The frame.append method is deprecated and will be removed from pandas in a future version. Use pandas.concat instead.\n",
            "  multipleinfradf = multipleinfradf.append(newrow, ignore_index=True)\n",
            "<ipython-input-4-6690f3e896c0>:22: FutureWarning: The frame.append method is deprecated and will be removed from pandas in a future version. Use pandas.concat instead.\n",
            "  multipleinfradf = multipleinfradf.append(newrow, ignore_index=True)\n",
            "<ipython-input-4-6690f3e896c0>:22: FutureWarning: The frame.append method is deprecated and will be removed from pandas in a future version. Use pandas.concat instead.\n",
            "  multipleinfradf = multipleinfradf.append(newrow, ignore_index=True)\n",
            "<ipython-input-4-6690f3e896c0>:22: FutureWarning: The frame.append method is deprecated and will be removed from pandas in a future version. Use pandas.concat instead.\n",
            "  multipleinfradf = multipleinfradf.append(newrow, ignore_index=True)\n",
            "<ipython-input-4-6690f3e896c0>:22: FutureWarning: The frame.append method is deprecated and will be removed from pandas in a future version. Use pandas.concat instead.\n",
            "  multipleinfradf = multipleinfradf.append(newrow, ignore_index=True)\n",
            "<ipython-input-4-6690f3e896c0>:22: FutureWarning: The frame.append method is deprecated and will be removed from pandas in a future version. Use pandas.concat instead.\n",
            "  multipleinfradf = multipleinfradf.append(newrow, ignore_index=True)\n",
            "<ipython-input-4-6690f3e896c0>:22: FutureWarning: The frame.append method is deprecated and will be removed from pandas in a future version. Use pandas.concat instead.\n",
            "  multipleinfradf = multipleinfradf.append(newrow, ignore_index=True)\n",
            "<ipython-input-4-6690f3e896c0>:22: FutureWarning: The frame.append method is deprecated and will be removed from pandas in a future version. Use pandas.concat instead.\n",
            "  multipleinfradf = multipleinfradf.append(newrow, ignore_index=True)\n",
            "<ipython-input-4-6690f3e896c0>:22: FutureWarning: The frame.append method is deprecated and will be removed from pandas in a future version. Use pandas.concat instead.\n",
            "  multipleinfradf = multipleinfradf.append(newrow, ignore_index=True)\n",
            "<ipython-input-4-6690f3e896c0>:22: FutureWarning: The frame.append method is deprecated and will be removed from pandas in a future version. Use pandas.concat instead.\n",
            "  multipleinfradf = multipleinfradf.append(newrow, ignore_index=True)\n",
            "<ipython-input-4-6690f3e896c0>:22: FutureWarning: The frame.append method is deprecated and will be removed from pandas in a future version. Use pandas.concat instead.\n",
            "  multipleinfradf = multipleinfradf.append(newrow, ignore_index=True)\n",
            "<ipython-input-4-6690f3e896c0>:22: FutureWarning: The frame.append method is deprecated and will be removed from pandas in a future version. Use pandas.concat instead.\n",
            "  multipleinfradf = multipleinfradf.append(newrow, ignore_index=True)\n",
            "<ipython-input-4-6690f3e896c0>:22: FutureWarning: The frame.append method is deprecated and will be removed from pandas in a future version. Use pandas.concat instead.\n",
            "  multipleinfradf = multipleinfradf.append(newrow, ignore_index=True)\n",
            "<ipython-input-4-6690f3e896c0>:22: FutureWarning: The frame.append method is deprecated and will be removed from pandas in a future version. Use pandas.concat instead.\n",
            "  multipleinfradf = multipleinfradf.append(newrow, ignore_index=True)\n",
            "<ipython-input-4-6690f3e896c0>:22: FutureWarning: The frame.append method is deprecated and will be removed from pandas in a future version. Use pandas.concat instead.\n",
            "  multipleinfradf = multipleinfradf.append(newrow, ignore_index=True)\n",
            "<ipython-input-4-6690f3e896c0>:22: FutureWarning: The frame.append method is deprecated and will be removed from pandas in a future version. Use pandas.concat instead.\n",
            "  multipleinfradf = multipleinfradf.append(newrow, ignore_index=True)\n",
            "<ipython-input-4-6690f3e896c0>:22: FutureWarning: The frame.append method is deprecated and will be removed from pandas in a future version. Use pandas.concat instead.\n",
            "  multipleinfradf = multipleinfradf.append(newrow, ignore_index=True)\n",
            "<ipython-input-4-6690f3e896c0>:22: FutureWarning: The frame.append method is deprecated and will be removed from pandas in a future version. Use pandas.concat instead.\n",
            "  multipleinfradf = multipleinfradf.append(newrow, ignore_index=True)\n",
            "<ipython-input-4-6690f3e896c0>:22: FutureWarning: The frame.append method is deprecated and will be removed from pandas in a future version. Use pandas.concat instead.\n",
            "  multipleinfradf = multipleinfradf.append(newrow, ignore_index=True)\n",
            "<ipython-input-4-6690f3e896c0>:22: FutureWarning: The frame.append method is deprecated and will be removed from pandas in a future version. Use pandas.concat instead.\n",
            "  multipleinfradf = multipleinfradf.append(newrow, ignore_index=True)\n",
            "<ipython-input-4-6690f3e896c0>:22: FutureWarning: The frame.append method is deprecated and will be removed from pandas in a future version. Use pandas.concat instead.\n",
            "  multipleinfradf = multipleinfradf.append(newrow, ignore_index=True)\n",
            "<ipython-input-4-6690f3e896c0>:22: FutureWarning: The frame.append method is deprecated and will be removed from pandas in a future version. Use pandas.concat instead.\n",
            "  multipleinfradf = multipleinfradf.append(newrow, ignore_index=True)\n",
            "<ipython-input-4-6690f3e896c0>:22: FutureWarning: The frame.append method is deprecated and will be removed from pandas in a future version. Use pandas.concat instead.\n",
            "  multipleinfradf = multipleinfradf.append(newrow, ignore_index=True)\n",
            "<ipython-input-4-6690f3e896c0>:22: FutureWarning: The frame.append method is deprecated and will be removed from pandas in a future version. Use pandas.concat instead.\n",
            "  multipleinfradf = multipleinfradf.append(newrow, ignore_index=True)\n",
            "<ipython-input-4-6690f3e896c0>:22: FutureWarning: The frame.append method is deprecated and will be removed from pandas in a future version. Use pandas.concat instead.\n",
            "  multipleinfradf = multipleinfradf.append(newrow, ignore_index=True)\n",
            "<ipython-input-4-6690f3e896c0>:22: FutureWarning: The frame.append method is deprecated and will be removed from pandas in a future version. Use pandas.concat instead.\n",
            "  multipleinfradf = multipleinfradf.append(newrow, ignore_index=True)\n",
            "<ipython-input-4-6690f3e896c0>:22: FutureWarning: The frame.append method is deprecated and will be removed from pandas in a future version. Use pandas.concat instead.\n",
            "  multipleinfradf = multipleinfradf.append(newrow, ignore_index=True)\n",
            "<ipython-input-4-6690f3e896c0>:22: FutureWarning: The frame.append method is deprecated and will be removed from pandas in a future version. Use pandas.concat instead.\n",
            "  multipleinfradf = multipleinfradf.append(newrow, ignore_index=True)\n",
            "<ipython-input-4-6690f3e896c0>:22: FutureWarning: The frame.append method is deprecated and will be removed from pandas in a future version. Use pandas.concat instead.\n",
            "  multipleinfradf = multipleinfradf.append(newrow, ignore_index=True)\n",
            "<ipython-input-4-6690f3e896c0>:22: FutureWarning: The frame.append method is deprecated and will be removed from pandas in a future version. Use pandas.concat instead.\n",
            "  multipleinfradf = multipleinfradf.append(newrow, ignore_index=True)\n",
            "<ipython-input-4-6690f3e896c0>:22: FutureWarning: The frame.append method is deprecated and will be removed from pandas in a future version. Use pandas.concat instead.\n",
            "  multipleinfradf = multipleinfradf.append(newrow, ignore_index=True)\n",
            "<ipython-input-4-6690f3e896c0>:22: FutureWarning: The frame.append method is deprecated and will be removed from pandas in a future version. Use pandas.concat instead.\n",
            "  multipleinfradf = multipleinfradf.append(newrow, ignore_index=True)\n",
            "<ipython-input-4-6690f3e896c0>:22: FutureWarning: The frame.append method is deprecated and will be removed from pandas in a future version. Use pandas.concat instead.\n",
            "  multipleinfradf = multipleinfradf.append(newrow, ignore_index=True)\n",
            "<ipython-input-4-6690f3e896c0>:22: FutureWarning: The frame.append method is deprecated and will be removed from pandas in a future version. Use pandas.concat instead.\n",
            "  multipleinfradf = multipleinfradf.append(newrow, ignore_index=True)\n",
            "<ipython-input-4-6690f3e896c0>:22: FutureWarning: The frame.append method is deprecated and will be removed from pandas in a future version. Use pandas.concat instead.\n",
            "  multipleinfradf = multipleinfradf.append(newrow, ignore_index=True)\n",
            "<ipython-input-4-6690f3e896c0>:22: FutureWarning: The frame.append method is deprecated and will be removed from pandas in a future version. Use pandas.concat instead.\n",
            "  multipleinfradf = multipleinfradf.append(newrow, ignore_index=True)\n",
            "<ipython-input-4-6690f3e896c0>:22: FutureWarning: The frame.append method is deprecated and will be removed from pandas in a future version. Use pandas.concat instead.\n",
            "  multipleinfradf = multipleinfradf.append(newrow, ignore_index=True)\n",
            "<ipython-input-4-6690f3e896c0>:22: FutureWarning: The frame.append method is deprecated and will be removed from pandas in a future version. Use pandas.concat instead.\n",
            "  multipleinfradf = multipleinfradf.append(newrow, ignore_index=True)\n",
            "<ipython-input-4-6690f3e896c0>:22: FutureWarning: The frame.append method is deprecated and will be removed from pandas in a future version. Use pandas.concat instead.\n",
            "  multipleinfradf = multipleinfradf.append(newrow, ignore_index=True)\n",
            "<ipython-input-4-6690f3e896c0>:22: FutureWarning: The frame.append method is deprecated and will be removed from pandas in a future version. Use pandas.concat instead.\n",
            "  multipleinfradf = multipleinfradf.append(newrow, ignore_index=True)\n",
            "<ipython-input-4-6690f3e896c0>:22: FutureWarning: The frame.append method is deprecated and will be removed from pandas in a future version. Use pandas.concat instead.\n",
            "  multipleinfradf = multipleinfradf.append(newrow, ignore_index=True)\n",
            "<ipython-input-4-6690f3e896c0>:22: FutureWarning: The frame.append method is deprecated and will be removed from pandas in a future version. Use pandas.concat instead.\n",
            "  multipleinfradf = multipleinfradf.append(newrow, ignore_index=True)\n",
            "<ipython-input-4-6690f3e896c0>:22: FutureWarning: The frame.append method is deprecated and will be removed from pandas in a future version. Use pandas.concat instead.\n",
            "  multipleinfradf = multipleinfradf.append(newrow, ignore_index=True)\n",
            "<ipython-input-4-6690f3e896c0>:22: FutureWarning: The frame.append method is deprecated and will be removed from pandas in a future version. Use pandas.concat instead.\n",
            "  multipleinfradf = multipleinfradf.append(newrow, ignore_index=True)\n",
            "<ipython-input-4-6690f3e896c0>:22: FutureWarning: The frame.append method is deprecated and will be removed from pandas in a future version. Use pandas.concat instead.\n",
            "  multipleinfradf = multipleinfradf.append(newrow, ignore_index=True)\n",
            "<ipython-input-4-6690f3e896c0>:22: FutureWarning: The frame.append method is deprecated and will be removed from pandas in a future version. Use pandas.concat instead.\n",
            "  multipleinfradf = multipleinfradf.append(newrow, ignore_index=True)\n",
            "<ipython-input-4-6690f3e896c0>:22: FutureWarning: The frame.append method is deprecated and will be removed from pandas in a future version. Use pandas.concat instead.\n",
            "  multipleinfradf = multipleinfradf.append(newrow, ignore_index=True)\n",
            "<ipython-input-4-6690f3e896c0>:22: FutureWarning: The frame.append method is deprecated and will be removed from pandas in a future version. Use pandas.concat instead.\n",
            "  multipleinfradf = multipleinfradf.append(newrow, ignore_index=True)\n",
            "<ipython-input-4-6690f3e896c0>:22: FutureWarning: The frame.append method is deprecated and will be removed from pandas in a future version. Use pandas.concat instead.\n",
            "  multipleinfradf = multipleinfradf.append(newrow, ignore_index=True)\n",
            "<ipython-input-4-6690f3e896c0>:22: FutureWarning: The frame.append method is deprecated and will be removed from pandas in a future version. Use pandas.concat instead.\n",
            "  multipleinfradf = multipleinfradf.append(newrow, ignore_index=True)\n",
            "<ipython-input-4-6690f3e896c0>:22: FutureWarning: The frame.append method is deprecated and will be removed from pandas in a future version. Use pandas.concat instead.\n",
            "  multipleinfradf = multipleinfradf.append(newrow, ignore_index=True)\n",
            "<ipython-input-4-6690f3e896c0>:22: FutureWarning: The frame.append method is deprecated and will be removed from pandas in a future version. Use pandas.concat instead.\n",
            "  multipleinfradf = multipleinfradf.append(newrow, ignore_index=True)\n",
            "<ipython-input-4-6690f3e896c0>:22: FutureWarning: The frame.append method is deprecated and will be removed from pandas in a future version. Use pandas.concat instead.\n",
            "  multipleinfradf = multipleinfradf.append(newrow, ignore_index=True)\n",
            "<ipython-input-4-6690f3e896c0>:22: FutureWarning: The frame.append method is deprecated and will be removed from pandas in a future version. Use pandas.concat instead.\n",
            "  multipleinfradf = multipleinfradf.append(newrow, ignore_index=True)\n",
            "<ipython-input-4-6690f3e896c0>:22: FutureWarning: The frame.append method is deprecated and will be removed from pandas in a future version. Use pandas.concat instead.\n",
            "  multipleinfradf = multipleinfradf.append(newrow, ignore_index=True)\n",
            "<ipython-input-4-6690f3e896c0>:22: FutureWarning: The frame.append method is deprecated and will be removed from pandas in a future version. Use pandas.concat instead.\n",
            "  multipleinfradf = multipleinfradf.append(newrow, ignore_index=True)\n",
            "<ipython-input-4-6690f3e896c0>:22: FutureWarning: The frame.append method is deprecated and will be removed from pandas in a future version. Use pandas.concat instead.\n",
            "  multipleinfradf = multipleinfradf.append(newrow, ignore_index=True)\n",
            "<ipython-input-4-6690f3e896c0>:22: FutureWarning: The frame.append method is deprecated and will be removed from pandas in a future version. Use pandas.concat instead.\n",
            "  multipleinfradf = multipleinfradf.append(newrow, ignore_index=True)\n",
            "<ipython-input-4-6690f3e896c0>:22: FutureWarning: The frame.append method is deprecated and will be removed from pandas in a future version. Use pandas.concat instead.\n",
            "  multipleinfradf = multipleinfradf.append(newrow, ignore_index=True)\n",
            "<ipython-input-4-6690f3e896c0>:22: FutureWarning: The frame.append method is deprecated and will be removed from pandas in a future version. Use pandas.concat instead.\n",
            "  multipleinfradf = multipleinfradf.append(newrow, ignore_index=True)\n",
            "<ipython-input-4-6690f3e896c0>:22: FutureWarning: The frame.append method is deprecated and will be removed from pandas in a future version. Use pandas.concat instead.\n",
            "  multipleinfradf = multipleinfradf.append(newrow, ignore_index=True)\n",
            "<ipython-input-4-6690f3e896c0>:22: FutureWarning: The frame.append method is deprecated and will be removed from pandas in a future version. Use pandas.concat instead.\n",
            "  multipleinfradf = multipleinfradf.append(newrow, ignore_index=True)\n",
            "<ipython-input-4-6690f3e896c0>:22: FutureWarning: The frame.append method is deprecated and will be removed from pandas in a future version. Use pandas.concat instead.\n",
            "  multipleinfradf = multipleinfradf.append(newrow, ignore_index=True)\n",
            "<ipython-input-4-6690f3e896c0>:22: FutureWarning: The frame.append method is deprecated and will be removed from pandas in a future version. Use pandas.concat instead.\n",
            "  multipleinfradf = multipleinfradf.append(newrow, ignore_index=True)\n",
            "<ipython-input-4-6690f3e896c0>:22: FutureWarning: The frame.append method is deprecated and will be removed from pandas in a future version. Use pandas.concat instead.\n",
            "  multipleinfradf = multipleinfradf.append(newrow, ignore_index=True)\n",
            "<ipython-input-4-6690f3e896c0>:22: FutureWarning: The frame.append method is deprecated and will be removed from pandas in a future version. Use pandas.concat instead.\n",
            "  multipleinfradf = multipleinfradf.append(newrow, ignore_index=True)\n",
            "<ipython-input-4-6690f3e896c0>:22: FutureWarning: The frame.append method is deprecated and will be removed from pandas in a future version. Use pandas.concat instead.\n",
            "  multipleinfradf = multipleinfradf.append(newrow, ignore_index=True)\n",
            "<ipython-input-4-6690f3e896c0>:22: FutureWarning: The frame.append method is deprecated and will be removed from pandas in a future version. Use pandas.concat instead.\n",
            "  multipleinfradf = multipleinfradf.append(newrow, ignore_index=True)\n",
            "<ipython-input-4-6690f3e896c0>:22: FutureWarning: The frame.append method is deprecated and will be removed from pandas in a future version. Use pandas.concat instead.\n",
            "  multipleinfradf = multipleinfradf.append(newrow, ignore_index=True)\n",
            "<ipython-input-4-6690f3e896c0>:22: FutureWarning: The frame.append method is deprecated and will be removed from pandas in a future version. Use pandas.concat instead.\n",
            "  multipleinfradf = multipleinfradf.append(newrow, ignore_index=True)\n",
            "<ipython-input-4-6690f3e896c0>:22: FutureWarning: The frame.append method is deprecated and will be removed from pandas in a future version. Use pandas.concat instead.\n",
            "  multipleinfradf = multipleinfradf.append(newrow, ignore_index=True)\n",
            "<ipython-input-4-6690f3e896c0>:22: FutureWarning: The frame.append method is deprecated and will be removed from pandas in a future version. Use pandas.concat instead.\n",
            "  multipleinfradf = multipleinfradf.append(newrow, ignore_index=True)\n",
            "<ipython-input-4-6690f3e896c0>:22: FutureWarning: The frame.append method is deprecated and will be removed from pandas in a future version. Use pandas.concat instead.\n",
            "  multipleinfradf = multipleinfradf.append(newrow, ignore_index=True)\n",
            "<ipython-input-4-6690f3e896c0>:22: FutureWarning: The frame.append method is deprecated and will be removed from pandas in a future version. Use pandas.concat instead.\n",
            "  multipleinfradf = multipleinfradf.append(newrow, ignore_index=True)\n",
            "<ipython-input-4-6690f3e896c0>:22: FutureWarning: The frame.append method is deprecated and will be removed from pandas in a future version. Use pandas.concat instead.\n",
            "  multipleinfradf = multipleinfradf.append(newrow, ignore_index=True)\n",
            "<ipython-input-4-6690f3e896c0>:22: FutureWarning: The frame.append method is deprecated and will be removed from pandas in a future version. Use pandas.concat instead.\n",
            "  multipleinfradf = multipleinfradf.append(newrow, ignore_index=True)\n",
            "<ipython-input-4-6690f3e896c0>:22: FutureWarning: The frame.append method is deprecated and will be removed from pandas in a future version. Use pandas.concat instead.\n",
            "  multipleinfradf = multipleinfradf.append(newrow, ignore_index=True)\n",
            "<ipython-input-4-6690f3e896c0>:22: FutureWarning: The frame.append method is deprecated and will be removed from pandas in a future version. Use pandas.concat instead.\n",
            "  multipleinfradf = multipleinfradf.append(newrow, ignore_index=True)\n",
            "<ipython-input-4-6690f3e896c0>:22: FutureWarning: The frame.append method is deprecated and will be removed from pandas in a future version. Use pandas.concat instead.\n",
            "  multipleinfradf = multipleinfradf.append(newrow, ignore_index=True)\n",
            "<ipython-input-4-6690f3e896c0>:22: FutureWarning: The frame.append method is deprecated and will be removed from pandas in a future version. Use pandas.concat instead.\n",
            "  multipleinfradf = multipleinfradf.append(newrow, ignore_index=True)\n",
            "<ipython-input-4-6690f3e896c0>:22: FutureWarning: The frame.append method is deprecated and will be removed from pandas in a future version. Use pandas.concat instead.\n",
            "  multipleinfradf = multipleinfradf.append(newrow, ignore_index=True)\n",
            "<ipython-input-4-6690f3e896c0>:22: FutureWarning: The frame.append method is deprecated and will be removed from pandas in a future version. Use pandas.concat instead.\n",
            "  multipleinfradf = multipleinfradf.append(newrow, ignore_index=True)\n",
            "<ipython-input-4-6690f3e896c0>:22: FutureWarning: The frame.append method is deprecated and will be removed from pandas in a future version. Use pandas.concat instead.\n",
            "  multipleinfradf = multipleinfradf.append(newrow, ignore_index=True)\n",
            "<ipython-input-4-6690f3e896c0>:22: FutureWarning: The frame.append method is deprecated and will be removed from pandas in a future version. Use pandas.concat instead.\n",
            "  multipleinfradf = multipleinfradf.append(newrow, ignore_index=True)\n",
            "<ipython-input-4-6690f3e896c0>:22: FutureWarning: The frame.append method is deprecated and will be removed from pandas in a future version. Use pandas.concat instead.\n",
            "  multipleinfradf = multipleinfradf.append(newrow, ignore_index=True)\n",
            "<ipython-input-4-6690f3e896c0>:22: FutureWarning: The frame.append method is deprecated and will be removed from pandas in a future version. Use pandas.concat instead.\n",
            "  multipleinfradf = multipleinfradf.append(newrow, ignore_index=True)\n",
            "<ipython-input-4-6690f3e896c0>:22: FutureWarning: The frame.append method is deprecated and will be removed from pandas in a future version. Use pandas.concat instead.\n",
            "  multipleinfradf = multipleinfradf.append(newrow, ignore_index=True)\n",
            "<ipython-input-4-6690f3e896c0>:22: FutureWarning: The frame.append method is deprecated and will be removed from pandas in a future version. Use pandas.concat instead.\n",
            "  multipleinfradf = multipleinfradf.append(newrow, ignore_index=True)\n",
            "<ipython-input-4-6690f3e896c0>:22: FutureWarning: The frame.append method is deprecated and will be removed from pandas in a future version. Use pandas.concat instead.\n",
            "  multipleinfradf = multipleinfradf.append(newrow, ignore_index=True)\n",
            "<ipython-input-4-6690f3e896c0>:22: FutureWarning: The frame.append method is deprecated and will be removed from pandas in a future version. Use pandas.concat instead.\n",
            "  multipleinfradf = multipleinfradf.append(newrow, ignore_index=True)\n",
            "<ipython-input-4-6690f3e896c0>:22: FutureWarning: The frame.append method is deprecated and will be removed from pandas in a future version. Use pandas.concat instead.\n",
            "  multipleinfradf = multipleinfradf.append(newrow, ignore_index=True)\n",
            "<ipython-input-4-6690f3e896c0>:22: FutureWarning: The frame.append method is deprecated and will be removed from pandas in a future version. Use pandas.concat instead.\n",
            "  multipleinfradf = multipleinfradf.append(newrow, ignore_index=True)\n",
            "<ipython-input-4-6690f3e896c0>:22: FutureWarning: The frame.append method is deprecated and will be removed from pandas in a future version. Use pandas.concat instead.\n",
            "  multipleinfradf = multipleinfradf.append(newrow, ignore_index=True)\n",
            "<ipython-input-4-6690f3e896c0>:22: FutureWarning: The frame.append method is deprecated and will be removed from pandas in a future version. Use pandas.concat instead.\n",
            "  multipleinfradf = multipleinfradf.append(newrow, ignore_index=True)\n",
            "<ipython-input-4-6690f3e896c0>:22: FutureWarning: The frame.append method is deprecated and will be removed from pandas in a future version. Use pandas.concat instead.\n",
            "  multipleinfradf = multipleinfradf.append(newrow, ignore_index=True)\n",
            "<ipython-input-4-6690f3e896c0>:22: FutureWarning: The frame.append method is deprecated and will be removed from pandas in a future version. Use pandas.concat instead.\n",
            "  multipleinfradf = multipleinfradf.append(newrow, ignore_index=True)\n",
            "<ipython-input-4-6690f3e896c0>:22: FutureWarning: The frame.append method is deprecated and will be removed from pandas in a future version. Use pandas.concat instead.\n",
            "  multipleinfradf = multipleinfradf.append(newrow, ignore_index=True)\n",
            "<ipython-input-4-6690f3e896c0>:22: FutureWarning: The frame.append method is deprecated and will be removed from pandas in a future version. Use pandas.concat instead.\n",
            "  multipleinfradf = multipleinfradf.append(newrow, ignore_index=True)\n",
            "<ipython-input-4-6690f3e896c0>:22: FutureWarning: The frame.append method is deprecated and will be removed from pandas in a future version. Use pandas.concat instead.\n",
            "  multipleinfradf = multipleinfradf.append(newrow, ignore_index=True)\n",
            "<ipython-input-4-6690f3e896c0>:22: FutureWarning: The frame.append method is deprecated and will be removed from pandas in a future version. Use pandas.concat instead.\n",
            "  multipleinfradf = multipleinfradf.append(newrow, ignore_index=True)\n",
            "<ipython-input-4-6690f3e896c0>:22: FutureWarning: The frame.append method is deprecated and will be removed from pandas in a future version. Use pandas.concat instead.\n",
            "  multipleinfradf = multipleinfradf.append(newrow, ignore_index=True)\n",
            "<ipython-input-4-6690f3e896c0>:22: FutureWarning: The frame.append method is deprecated and will be removed from pandas in a future version. Use pandas.concat instead.\n",
            "  multipleinfradf = multipleinfradf.append(newrow, ignore_index=True)\n",
            "<ipython-input-4-6690f3e896c0>:22: FutureWarning: The frame.append method is deprecated and will be removed from pandas in a future version. Use pandas.concat instead.\n",
            "  multipleinfradf = multipleinfradf.append(newrow, ignore_index=True)\n",
            "<ipython-input-4-6690f3e896c0>:22: FutureWarning: The frame.append method is deprecated and will be removed from pandas in a future version. Use pandas.concat instead.\n",
            "  multipleinfradf = multipleinfradf.append(newrow, ignore_index=True)\n",
            "<ipython-input-4-6690f3e896c0>:22: FutureWarning: The frame.append method is deprecated and will be removed from pandas in a future version. Use pandas.concat instead.\n",
            "  multipleinfradf = multipleinfradf.append(newrow, ignore_index=True)\n",
            "<ipython-input-4-6690f3e896c0>:22: FutureWarning: The frame.append method is deprecated and will be removed from pandas in a future version. Use pandas.concat instead.\n",
            "  multipleinfradf = multipleinfradf.append(newrow, ignore_index=True)\n"
          ]
        },
        {
          "output_type": "error",
          "ename": "KeyboardInterrupt",
          "evalue": "ignored",
          "traceback": [
            "\u001b[0;31m---------------------------------------------------------------------------\u001b[0m",
            "\u001b[0;31mKeyError\u001b[0m                                  Traceback (most recent call last)",
            "\u001b[0;32m/usr/local/lib/python3.10/dist-packages/pandas/core/indexes/base.py\u001b[0m in \u001b[0;36mget_loc\u001b[0;34m(self, key, method, tolerance)\u001b[0m\n\u001b[1;32m   3801\u001b[0m             \u001b[0;32mtry\u001b[0m\u001b[0;34m:\u001b[0m\u001b[0;34m\u001b[0m\u001b[0;34m\u001b[0m\u001b[0m\n\u001b[0;32m-> 3802\u001b[0;31m                 \u001b[0;32mreturn\u001b[0m \u001b[0mself\u001b[0m\u001b[0;34m.\u001b[0m\u001b[0m_engine\u001b[0m\u001b[0;34m.\u001b[0m\u001b[0mget_loc\u001b[0m\u001b[0;34m(\u001b[0m\u001b[0mcasted_key\u001b[0m\u001b[0;34m)\u001b[0m\u001b[0;34m\u001b[0m\u001b[0;34m\u001b[0m\u001b[0m\n\u001b[0m\u001b[1;32m   3803\u001b[0m             \u001b[0;32mexcept\u001b[0m \u001b[0mKeyError\u001b[0m \u001b[0;32mas\u001b[0m \u001b[0merr\u001b[0m\u001b[0;34m:\u001b[0m\u001b[0;34m\u001b[0m\u001b[0;34m\u001b[0m\u001b[0m\n",
            "\u001b[0;32m/usr/local/lib/python3.10/dist-packages/pandas/_libs/index.pyx\u001b[0m in \u001b[0;36mpandas._libs.index.IndexEngine.get_loc\u001b[0;34m()\u001b[0m\n",
            "\u001b[0;32m/usr/local/lib/python3.10/dist-packages/pandas/_libs/index.pyx\u001b[0m in \u001b[0;36mpandas._libs.index.IndexEngine.get_loc\u001b[0;34m()\u001b[0m\n",
            "\u001b[0;32mpandas/_libs/hashtable_class_helper.pxi\u001b[0m in \u001b[0;36mpandas._libs.hashtable.Int64HashTable.get_item\u001b[0;34m()\u001b[0m\n",
            "\u001b[0;32mpandas/_libs/hashtable_class_helper.pxi\u001b[0m in \u001b[0;36mpandas._libs.hashtable.Int64HashTable.get_item\u001b[0;34m()\u001b[0m\n",
            "\u001b[0;31mKeyError\u001b[0m: 1031021",
            "\nThe above exception was the direct cause of the following exception:\n",
            "\u001b[0;31mKeyError\u001b[0m                                  Traceback (most recent call last)",
            "\u001b[0;32m/usr/local/lib/python3.10/dist-packages/pandas/core/frame.py\u001b[0m in \u001b[0;36m_set_value\u001b[0;34m(self, index, col, value, takeable)\u001b[0m\n\u001b[1;32m   4210\u001b[0m                 \u001b[0micol\u001b[0m \u001b[0;34m=\u001b[0m \u001b[0mself\u001b[0m\u001b[0;34m.\u001b[0m\u001b[0mcolumns\u001b[0m\u001b[0;34m.\u001b[0m\u001b[0mget_loc\u001b[0m\u001b[0;34m(\u001b[0m\u001b[0mcol\u001b[0m\u001b[0;34m)\u001b[0m\u001b[0;34m\u001b[0m\u001b[0;34m\u001b[0m\u001b[0m\n\u001b[0;32m-> 4211\u001b[0;31m                 \u001b[0miindex\u001b[0m \u001b[0;34m=\u001b[0m \u001b[0mself\u001b[0m\u001b[0;34m.\u001b[0m\u001b[0mindex\u001b[0m\u001b[0;34m.\u001b[0m\u001b[0mget_loc\u001b[0m\u001b[0;34m(\u001b[0m\u001b[0mindex\u001b[0m\u001b[0;34m)\u001b[0m\u001b[0;34m\u001b[0m\u001b[0;34m\u001b[0m\u001b[0m\n\u001b[0m\u001b[1;32m   4212\u001b[0m             \u001b[0mself\u001b[0m\u001b[0;34m.\u001b[0m\u001b[0m_mgr\u001b[0m\u001b[0;34m.\u001b[0m\u001b[0mcolumn_setitem\u001b[0m\u001b[0;34m(\u001b[0m\u001b[0micol\u001b[0m\u001b[0;34m,\u001b[0m \u001b[0miindex\u001b[0m\u001b[0;34m,\u001b[0m \u001b[0mvalue\u001b[0m\u001b[0;34m,\u001b[0m \u001b[0minplace\u001b[0m\u001b[0;34m=\u001b[0m\u001b[0;32mTrue\u001b[0m\u001b[0;34m)\u001b[0m\u001b[0;34m\u001b[0m\u001b[0;34m\u001b[0m\u001b[0m\n",
            "\u001b[0;32m/usr/local/lib/python3.10/dist-packages/pandas/core/indexes/base.py\u001b[0m in \u001b[0;36mget_loc\u001b[0;34m(self, key, method, tolerance)\u001b[0m\n\u001b[1;32m   3803\u001b[0m             \u001b[0;32mexcept\u001b[0m \u001b[0mKeyError\u001b[0m \u001b[0;32mas\u001b[0m \u001b[0merr\u001b[0m\u001b[0;34m:\u001b[0m\u001b[0;34m\u001b[0m\u001b[0;34m\u001b[0m\u001b[0m\n\u001b[0;32m-> 3804\u001b[0;31m                 \u001b[0;32mraise\u001b[0m \u001b[0mKeyError\u001b[0m\u001b[0;34m(\u001b[0m\u001b[0mkey\u001b[0m\u001b[0;34m)\u001b[0m \u001b[0;32mfrom\u001b[0m \u001b[0merr\u001b[0m\u001b[0;34m\u001b[0m\u001b[0;34m\u001b[0m\u001b[0m\n\u001b[0m\u001b[1;32m   3805\u001b[0m             \u001b[0;32mexcept\u001b[0m \u001b[0mTypeError\u001b[0m\u001b[0;34m:\u001b[0m\u001b[0;34m\u001b[0m\u001b[0;34m\u001b[0m\u001b[0m\n",
            "\u001b[0;31mKeyError\u001b[0m: 1031021",
            "\nDuring handling of the above exception, another exception occurred:\n",
            "\u001b[0;31mKeyboardInterrupt\u001b[0m                         Traceback (most recent call last)",
            "\u001b[0;32m<ipython-input-4-6690f3e896c0>\u001b[0m in \u001b[0;36m<cell line: 7>\u001b[0;34m()\u001b[0m\n\u001b[1;32m     17\u001b[0m     \u001b[0mcurrentcount\u001b[0m \u001b[0;34m=\u001b[0m \u001b[0mmultipleinfradf\u001b[0m\u001b[0;34m.\u001b[0m\u001b[0mat\u001b[0m\u001b[0;34m[\u001b[0m\u001b[0mcomboidx\u001b[0m\u001b[0;34m,\u001b[0m \u001b[0;34m'Accident_Cases'\u001b[0m\u001b[0;34m]\u001b[0m\u001b[0;34m\u001b[0m\u001b[0;34m\u001b[0m\u001b[0m\n\u001b[1;32m     18\u001b[0m     \u001b[0;31m#update this count\u001b[0m\u001b[0;34m\u001b[0m\u001b[0;34m\u001b[0m\u001b[0m\n\u001b[0;32m---> 19\u001b[0;31m     \u001b[0mmultipleinfradf\u001b[0m\u001b[0;34m.\u001b[0m\u001b[0mat\u001b[0m\u001b[0;34m[\u001b[0m\u001b[0midx\u001b[0m\u001b[0;34m,\u001b[0m \u001b[0;34m'Accident_Cases'\u001b[0m\u001b[0;34m]\u001b[0m \u001b[0;34m=\u001b[0m \u001b[0mcurrentcount\u001b[0m \u001b[0;34m+\u001b[0m \u001b[0;36m1\u001b[0m\u001b[0;34m\u001b[0m\u001b[0;34m\u001b[0m\u001b[0m\n\u001b[0m\u001b[1;32m     20\u001b[0m   \u001b[0;32melse\u001b[0m\u001b[0;34m:\u001b[0m\u001b[0;34m\u001b[0m\u001b[0;34m\u001b[0m\u001b[0m\n\u001b[1;32m     21\u001b[0m     \u001b[0mnewrow\u001b[0m \u001b[0;34m=\u001b[0m \u001b[0;34m{\u001b[0m\u001b[0;34m'Infra_Combo'\u001b[0m\u001b[0;34m:\u001b[0m \u001b[0minfracombo\u001b[0m\u001b[0;34m,\u001b[0m \u001b[0;34m'Accident_Cases'\u001b[0m\u001b[0;34m:\u001b[0m \u001b[0;36m1\u001b[0m\u001b[0;34m}\u001b[0m\u001b[0;34m\u001b[0m\u001b[0;34m\u001b[0m\u001b[0m\n",
            "\u001b[0;32m/usr/local/lib/python3.10/dist-packages/pandas/core/indexing.py\u001b[0m in \u001b[0;36m__setitem__\u001b[0;34m(self, key, value)\u001b[0m\n\u001b[1;32m   2440\u001b[0m             \u001b[0;32mreturn\u001b[0m\u001b[0;34m\u001b[0m\u001b[0;34m\u001b[0m\u001b[0m\n\u001b[1;32m   2441\u001b[0m \u001b[0;34m\u001b[0m\u001b[0m\n\u001b[0;32m-> 2442\u001b[0;31m         \u001b[0;32mreturn\u001b[0m \u001b[0msuper\u001b[0m\u001b[0;34m(\u001b[0m\u001b[0;34m)\u001b[0m\u001b[0;34m.\u001b[0m\u001b[0m__setitem__\u001b[0m\u001b[0;34m(\u001b[0m\u001b[0mkey\u001b[0m\u001b[0;34m,\u001b[0m \u001b[0mvalue\u001b[0m\u001b[0;34m)\u001b[0m\u001b[0;34m\u001b[0m\u001b[0;34m\u001b[0m\u001b[0m\n\u001b[0m\u001b[1;32m   2443\u001b[0m \u001b[0;34m\u001b[0m\u001b[0m\n\u001b[1;32m   2444\u001b[0m \u001b[0;34m\u001b[0m\u001b[0m\n",
            "\u001b[0;32m/usr/local/lib/python3.10/dist-packages/pandas/core/indexing.py\u001b[0m in \u001b[0;36m__setitem__\u001b[0;34m(self, key, value)\u001b[0m\n\u001b[1;32m   2395\u001b[0m             \u001b[0;32mraise\u001b[0m \u001b[0mValueError\u001b[0m\u001b[0;34m(\u001b[0m\u001b[0;34m\"Not enough indexers for scalar access (setting)!\"\u001b[0m\u001b[0;34m)\u001b[0m\u001b[0;34m\u001b[0m\u001b[0;34m\u001b[0m\u001b[0m\n\u001b[1;32m   2396\u001b[0m \u001b[0;34m\u001b[0m\u001b[0m\n\u001b[0;32m-> 2397\u001b[0;31m         \u001b[0mself\u001b[0m\u001b[0;34m.\u001b[0m\u001b[0mobj\u001b[0m\u001b[0;34m.\u001b[0m\u001b[0m_set_value\u001b[0m\u001b[0;34m(\u001b[0m\u001b[0;34m*\u001b[0m\u001b[0mkey\u001b[0m\u001b[0;34m,\u001b[0m \u001b[0mvalue\u001b[0m\u001b[0;34m=\u001b[0m\u001b[0mvalue\u001b[0m\u001b[0;34m,\u001b[0m \u001b[0mtakeable\u001b[0m\u001b[0;34m=\u001b[0m\u001b[0mself\u001b[0m\u001b[0;34m.\u001b[0m\u001b[0m_takeable\u001b[0m\u001b[0;34m)\u001b[0m\u001b[0;34m\u001b[0m\u001b[0;34m\u001b[0m\u001b[0m\n\u001b[0m\u001b[1;32m   2398\u001b[0m \u001b[0;34m\u001b[0m\u001b[0m\n\u001b[1;32m   2399\u001b[0m \u001b[0;34m\u001b[0m\u001b[0m\n",
            "\u001b[0;32m/usr/local/lib/python3.10/dist-packages/pandas/core/frame.py\u001b[0m in \u001b[0;36m_set_value\u001b[0;34m(self, index, col, value, takeable)\u001b[0m\n\u001b[1;32m   4222\u001b[0m                 \u001b[0mself\u001b[0m\u001b[0;34m.\u001b[0m\u001b[0miloc\u001b[0m\u001b[0;34m[\u001b[0m\u001b[0mindex\u001b[0m\u001b[0;34m,\u001b[0m \u001b[0mcol\u001b[0m\u001b[0;34m]\u001b[0m \u001b[0;34m=\u001b[0m \u001b[0mvalue\u001b[0m\u001b[0;34m\u001b[0m\u001b[0;34m\u001b[0m\u001b[0m\n\u001b[1;32m   4223\u001b[0m             \u001b[0;32melse\u001b[0m\u001b[0;34m:\u001b[0m\u001b[0;34m\u001b[0m\u001b[0;34m\u001b[0m\u001b[0m\n\u001b[0;32m-> 4224\u001b[0;31m                 \u001b[0mself\u001b[0m\u001b[0;34m.\u001b[0m\u001b[0mloc\u001b[0m\u001b[0;34m[\u001b[0m\u001b[0mindex\u001b[0m\u001b[0;34m,\u001b[0m \u001b[0mcol\u001b[0m\u001b[0;34m]\u001b[0m \u001b[0;34m=\u001b[0m \u001b[0mvalue\u001b[0m\u001b[0;34m\u001b[0m\u001b[0;34m\u001b[0m\u001b[0m\n\u001b[0m\u001b[1;32m   4225\u001b[0m             \u001b[0mself\u001b[0m\u001b[0;34m.\u001b[0m\u001b[0m_item_cache\u001b[0m\u001b[0;34m.\u001b[0m\u001b[0mpop\u001b[0m\u001b[0;34m(\u001b[0m\u001b[0mcol\u001b[0m\u001b[0;34m,\u001b[0m \u001b[0;32mNone\u001b[0m\u001b[0;34m)\u001b[0m\u001b[0;34m\u001b[0m\u001b[0;34m\u001b[0m\u001b[0m\n\u001b[1;32m   4226\u001b[0m \u001b[0;34m\u001b[0m\u001b[0m\n",
            "\u001b[0;32m/usr/local/lib/python3.10/dist-packages/pandas/core/indexing.py\u001b[0m in \u001b[0;36m__setitem__\u001b[0;34m(self, key, value)\u001b[0m\n\u001b[1;32m    816\u001b[0m \u001b[0;34m\u001b[0m\u001b[0m\n\u001b[1;32m    817\u001b[0m         \u001b[0miloc\u001b[0m \u001b[0;34m=\u001b[0m \u001b[0mself\u001b[0m \u001b[0;32mif\u001b[0m \u001b[0mself\u001b[0m\u001b[0;34m.\u001b[0m\u001b[0mname\u001b[0m \u001b[0;34m==\u001b[0m \u001b[0;34m\"iloc\"\u001b[0m \u001b[0;32melse\u001b[0m \u001b[0mself\u001b[0m\u001b[0;34m.\u001b[0m\u001b[0mobj\u001b[0m\u001b[0;34m.\u001b[0m\u001b[0miloc\u001b[0m\u001b[0;34m\u001b[0m\u001b[0;34m\u001b[0m\u001b[0m\n\u001b[0;32m--> 818\u001b[0;31m         \u001b[0miloc\u001b[0m\u001b[0;34m.\u001b[0m\u001b[0m_setitem_with_indexer\u001b[0m\u001b[0;34m(\u001b[0m\u001b[0mindexer\u001b[0m\u001b[0;34m,\u001b[0m \u001b[0mvalue\u001b[0m\u001b[0;34m,\u001b[0m \u001b[0mself\u001b[0m\u001b[0;34m.\u001b[0m\u001b[0mname\u001b[0m\u001b[0;34m)\u001b[0m\u001b[0;34m\u001b[0m\u001b[0;34m\u001b[0m\u001b[0m\n\u001b[0m\u001b[1;32m    819\u001b[0m \u001b[0;34m\u001b[0m\u001b[0m\n\u001b[1;32m    820\u001b[0m     \u001b[0;32mdef\u001b[0m \u001b[0m_validate_key\u001b[0m\u001b[0;34m(\u001b[0m\u001b[0mself\u001b[0m\u001b[0;34m,\u001b[0m \u001b[0mkey\u001b[0m\u001b[0;34m,\u001b[0m \u001b[0maxis\u001b[0m\u001b[0;34m:\u001b[0m \u001b[0mint\u001b[0m\u001b[0;34m)\u001b[0m\u001b[0;34m:\u001b[0m\u001b[0;34m\u001b[0m\u001b[0;34m\u001b[0m\u001b[0m\n",
            "\u001b[0;32m/usr/local/lib/python3.10/dist-packages/pandas/core/indexing.py\u001b[0m in \u001b[0;36m_setitem_with_indexer\u001b[0;34m(self, indexer, value, name)\u001b[0m\n\u001b[1;32m   1765\u001b[0m                     \u001b[0mtaker\u001b[0m\u001b[0;34m[\u001b[0m\u001b[0;34m-\u001b[0m\u001b[0;36m1\u001b[0m\u001b[0;34m]\u001b[0m \u001b[0;34m=\u001b[0m \u001b[0;34m-\u001b[0m\u001b[0;36m1\u001b[0m\u001b[0;34m\u001b[0m\u001b[0;34m\u001b[0m\u001b[0m\n\u001b[1;32m   1766\u001b[0m                     \u001b[0mreindexers\u001b[0m \u001b[0;34m=\u001b[0m \u001b[0;34m{\u001b[0m\u001b[0mi\u001b[0m\u001b[0;34m:\u001b[0m \u001b[0;34m(\u001b[0m\u001b[0mlabels\u001b[0m\u001b[0;34m,\u001b[0m \u001b[0mtaker\u001b[0m\u001b[0;34m)\u001b[0m\u001b[0;34m}\u001b[0m\u001b[0;34m\u001b[0m\u001b[0;34m\u001b[0m\u001b[0m\n\u001b[0;32m-> 1767\u001b[0;31m                     new_obj = self.obj._reindex_with_indexers(\n\u001b[0m\u001b[1;32m   1768\u001b[0m                         \u001b[0mreindexers\u001b[0m\u001b[0;34m,\u001b[0m \u001b[0mallow_dups\u001b[0m\u001b[0;34m=\u001b[0m\u001b[0;32mTrue\u001b[0m\u001b[0;34m\u001b[0m\u001b[0;34m\u001b[0m\u001b[0m\n\u001b[1;32m   1769\u001b[0m                     )\n",
            "\u001b[0;32m/usr/local/lib/python3.10/dist-packages/pandas/core/generic.py\u001b[0m in \u001b[0;36m_reindex_with_indexers\u001b[0;34m(self, reindexers, fill_value, copy, allow_dups)\u001b[0m\n\u001b[1;32m   5353\u001b[0m \u001b[0;34m\u001b[0m\u001b[0m\n\u001b[1;32m   5354\u001b[0m             \u001b[0;31m# TODO: speed up on homogeneous DataFrame objects (see _reindex_multi)\u001b[0m\u001b[0;34m\u001b[0m\u001b[0;34m\u001b[0m\u001b[0m\n\u001b[0;32m-> 5355\u001b[0;31m             new_data = new_data.reindex_indexer(\n\u001b[0m\u001b[1;32m   5356\u001b[0m                 \u001b[0mindex\u001b[0m\u001b[0;34m,\u001b[0m\u001b[0;34m\u001b[0m\u001b[0;34m\u001b[0m\u001b[0m\n\u001b[1;32m   5357\u001b[0m                 \u001b[0mindexer\u001b[0m\u001b[0;34m,\u001b[0m\u001b[0;34m\u001b[0m\u001b[0;34m\u001b[0m\u001b[0m\n",
            "\u001b[0;32m/usr/local/lib/python3.10/dist-packages/pandas/core/internals/managers.py\u001b[0m in \u001b[0;36mreindex_indexer\u001b[0;34m(self, new_axis, indexer, axis, fill_value, allow_dups, copy, only_slice, use_na_proxy)\u001b[0m\n\u001b[1;32m    749\u001b[0m             \u001b[0mparent\u001b[0m \u001b[0;34m=\u001b[0m \u001b[0;32mNone\u001b[0m \u001b[0;32mif\u001b[0m \u001b[0mcom\u001b[0m\u001b[0;34m.\u001b[0m\u001b[0mall_none\u001b[0m\u001b[0;34m(\u001b[0m\u001b[0;34m*\u001b[0m\u001b[0mnew_refs\u001b[0m\u001b[0;34m)\u001b[0m \u001b[0;32melse\u001b[0m \u001b[0mself\u001b[0m\u001b[0;34m\u001b[0m\u001b[0;34m\u001b[0m\u001b[0m\n\u001b[1;32m    750\u001b[0m         \u001b[0;32melse\u001b[0m\u001b[0;34m:\u001b[0m\u001b[0;34m\u001b[0m\u001b[0;34m\u001b[0m\u001b[0m\n\u001b[0;32m--> 751\u001b[0;31m             new_blocks = [\n\u001b[0m\u001b[1;32m    752\u001b[0m                 blk.take_nd(\n\u001b[1;32m    753\u001b[0m                     \u001b[0mindexer\u001b[0m\u001b[0;34m,\u001b[0m\u001b[0;34m\u001b[0m\u001b[0;34m\u001b[0m\u001b[0m\n",
            "\u001b[0;32m/usr/local/lib/python3.10/dist-packages/pandas/core/internals/managers.py\u001b[0m in \u001b[0;36m<listcomp>\u001b[0;34m(.0)\u001b[0m\n\u001b[1;32m    750\u001b[0m         \u001b[0;32melse\u001b[0m\u001b[0;34m:\u001b[0m\u001b[0;34m\u001b[0m\u001b[0;34m\u001b[0m\u001b[0m\n\u001b[1;32m    751\u001b[0m             new_blocks = [\n\u001b[0;32m--> 752\u001b[0;31m                 blk.take_nd(\n\u001b[0m\u001b[1;32m    753\u001b[0m                     \u001b[0mindexer\u001b[0m\u001b[0;34m,\u001b[0m\u001b[0;34m\u001b[0m\u001b[0;34m\u001b[0m\u001b[0m\n\u001b[1;32m    754\u001b[0m                     \u001b[0maxis\u001b[0m\u001b[0;34m=\u001b[0m\u001b[0;36m1\u001b[0m\u001b[0;34m,\u001b[0m\u001b[0;34m\u001b[0m\u001b[0;34m\u001b[0m\u001b[0m\n",
            "\u001b[0;32m/usr/local/lib/python3.10/dist-packages/pandas/core/internals/blocks.py\u001b[0m in \u001b[0;36mtake_nd\u001b[0;34m(self, indexer, axis, new_mgr_locs, fill_value)\u001b[0m\n\u001b[1;32m    878\u001b[0m \u001b[0;34m\u001b[0m\u001b[0m\n\u001b[1;32m    879\u001b[0m         \u001b[0;31m# Note: algos.take_nd has upcast logic similar to coerce_to_target_dtype\u001b[0m\u001b[0;34m\u001b[0m\u001b[0;34m\u001b[0m\u001b[0m\n\u001b[0;32m--> 880\u001b[0;31m         new_values = algos.take_nd(\n\u001b[0m\u001b[1;32m    881\u001b[0m             \u001b[0mvalues\u001b[0m\u001b[0;34m,\u001b[0m \u001b[0mindexer\u001b[0m\u001b[0;34m,\u001b[0m \u001b[0maxis\u001b[0m\u001b[0;34m=\u001b[0m\u001b[0maxis\u001b[0m\u001b[0;34m,\u001b[0m \u001b[0mallow_fill\u001b[0m\u001b[0;34m=\u001b[0m\u001b[0mallow_fill\u001b[0m\u001b[0;34m,\u001b[0m \u001b[0mfill_value\u001b[0m\u001b[0;34m=\u001b[0m\u001b[0mfill_value\u001b[0m\u001b[0;34m\u001b[0m\u001b[0;34m\u001b[0m\u001b[0m\n\u001b[1;32m    882\u001b[0m         )\n",
            "\u001b[0;32m/usr/local/lib/python3.10/dist-packages/pandas/core/array_algos/take.py\u001b[0m in \u001b[0;36mtake_nd\u001b[0;34m(arr, indexer, axis, fill_value, allow_fill)\u001b[0m\n\u001b[1;32m    115\u001b[0m \u001b[0;34m\u001b[0m\u001b[0m\n\u001b[1;32m    116\u001b[0m     \u001b[0marr\u001b[0m \u001b[0;34m=\u001b[0m \u001b[0mnp\u001b[0m\u001b[0;34m.\u001b[0m\u001b[0masarray\u001b[0m\u001b[0;34m(\u001b[0m\u001b[0marr\u001b[0m\u001b[0;34m)\u001b[0m\u001b[0;34m\u001b[0m\u001b[0;34m\u001b[0m\u001b[0m\n\u001b[0;32m--> 117\u001b[0;31m     \u001b[0;32mreturn\u001b[0m \u001b[0m_take_nd_ndarray\u001b[0m\u001b[0;34m(\u001b[0m\u001b[0marr\u001b[0m\u001b[0;34m,\u001b[0m \u001b[0mindexer\u001b[0m\u001b[0;34m,\u001b[0m \u001b[0maxis\u001b[0m\u001b[0;34m,\u001b[0m \u001b[0mfill_value\u001b[0m\u001b[0;34m,\u001b[0m \u001b[0mallow_fill\u001b[0m\u001b[0;34m)\u001b[0m\u001b[0;34m\u001b[0m\u001b[0;34m\u001b[0m\u001b[0m\n\u001b[0m\u001b[1;32m    118\u001b[0m \u001b[0;34m\u001b[0m\u001b[0m\n\u001b[1;32m    119\u001b[0m \u001b[0;34m\u001b[0m\u001b[0m\n",
            "\u001b[0;32m/usr/local/lib/python3.10/dist-packages/pandas/core/array_algos/take.py\u001b[0m in \u001b[0;36m_take_nd_ndarray\u001b[0;34m(arr, indexer, axis, fill_value, allow_fill)\u001b[0m\n\u001b[1;32m    156\u001b[0m         \u001b[0mout\u001b[0m \u001b[0;34m=\u001b[0m \u001b[0mnp\u001b[0m\u001b[0;34m.\u001b[0m\u001b[0mempty\u001b[0m\u001b[0;34m(\u001b[0m\u001b[0mout_shape\u001b[0m\u001b[0;34m,\u001b[0m \u001b[0mdtype\u001b[0m\u001b[0;34m=\u001b[0m\u001b[0mdtype\u001b[0m\u001b[0;34m,\u001b[0m \u001b[0morder\u001b[0m\u001b[0;34m=\u001b[0m\u001b[0;34m\"F\"\u001b[0m\u001b[0;34m)\u001b[0m\u001b[0;34m\u001b[0m\u001b[0;34m\u001b[0m\u001b[0m\n\u001b[1;32m    157\u001b[0m     \u001b[0;32melse\u001b[0m\u001b[0;34m:\u001b[0m\u001b[0;34m\u001b[0m\u001b[0;34m\u001b[0m\u001b[0m\n\u001b[0;32m--> 158\u001b[0;31m         \u001b[0mout\u001b[0m \u001b[0;34m=\u001b[0m \u001b[0mnp\u001b[0m\u001b[0;34m.\u001b[0m\u001b[0mempty\u001b[0m\u001b[0;34m(\u001b[0m\u001b[0mout_shape\u001b[0m\u001b[0;34m,\u001b[0m \u001b[0mdtype\u001b[0m\u001b[0;34m=\u001b[0m\u001b[0mdtype\u001b[0m\u001b[0;34m)\u001b[0m\u001b[0;34m\u001b[0m\u001b[0;34m\u001b[0m\u001b[0m\n\u001b[0m\u001b[1;32m    159\u001b[0m \u001b[0;34m\u001b[0m\u001b[0m\n\u001b[1;32m    160\u001b[0m     func = _get_take_nd_function(\n",
            "\u001b[0;31mKeyboardInterrupt\u001b[0m: "
          ]
        }
      ]
    },
    {
      "cell_type": "code",
      "source": [
        "multipleinfradf"
      ],
      "metadata": {
        "colab": {
          "base_uri": "https://localhost:8080/",
          "height": 423
        },
        "id": "ke_7EXT9jPz1",
        "outputId": "5fc4734d-2dc9-4895-8723-591591cb88f2"
      },
      "execution_count": null,
      "outputs": [
        {
          "output_type": "execute_result",
          "data": {
            "text/plain": [
              "                      Infra_Combo Accident_Cases\n",
              "0                        Junction              1\n",
              "1                  Traffic_Signal              1\n",
              "2                             NaN              2\n",
              "3        Crossing, Traffic_Signal              1\n",
              "4                             NaN              2\n",
              "...                           ...            ...\n",
              "1030992                       NaN              2\n",
              "1030997                       NaN              2\n",
              "1031006                       NaN              2\n",
              "1031014                       NaN              2\n",
              "1031017                       NaN              2\n",
              "\n",
              "[252667 rows x 2 columns]"
            ],
            "text/html": [
              "\n",
              "\n",
              "  <div id=\"df-f11cc21b-0131-4ffb-9bf3-c9d487d09a61\">\n",
              "    <div class=\"colab-df-container\">\n",
              "      <div>\n",
              "<style scoped>\n",
              "    .dataframe tbody tr th:only-of-type {\n",
              "        vertical-align: middle;\n",
              "    }\n",
              "\n",
              "    .dataframe tbody tr th {\n",
              "        vertical-align: top;\n",
              "    }\n",
              "\n",
              "    .dataframe thead th {\n",
              "        text-align: right;\n",
              "    }\n",
              "</style>\n",
              "<table border=\"1\" class=\"dataframe\">\n",
              "  <thead>\n",
              "    <tr style=\"text-align: right;\">\n",
              "      <th></th>\n",
              "      <th>Infra_Combo</th>\n",
              "      <th>Accident_Cases</th>\n",
              "    </tr>\n",
              "  </thead>\n",
              "  <tbody>\n",
              "    <tr>\n",
              "      <th>0</th>\n",
              "      <td>Junction</td>\n",
              "      <td>1</td>\n",
              "    </tr>\n",
              "    <tr>\n",
              "      <th>1</th>\n",
              "      <td>Traffic_Signal</td>\n",
              "      <td>1</td>\n",
              "    </tr>\n",
              "    <tr>\n",
              "      <th>2</th>\n",
              "      <td>NaN</td>\n",
              "      <td>2</td>\n",
              "    </tr>\n",
              "    <tr>\n",
              "      <th>3</th>\n",
              "      <td>Crossing, Traffic_Signal</td>\n",
              "      <td>1</td>\n",
              "    </tr>\n",
              "    <tr>\n",
              "      <th>4</th>\n",
              "      <td>NaN</td>\n",
              "      <td>2</td>\n",
              "    </tr>\n",
              "    <tr>\n",
              "      <th>...</th>\n",
              "      <td>...</td>\n",
              "      <td>...</td>\n",
              "    </tr>\n",
              "    <tr>\n",
              "      <th>1030992</th>\n",
              "      <td>NaN</td>\n",
              "      <td>2</td>\n",
              "    </tr>\n",
              "    <tr>\n",
              "      <th>1030997</th>\n",
              "      <td>NaN</td>\n",
              "      <td>2</td>\n",
              "    </tr>\n",
              "    <tr>\n",
              "      <th>1031006</th>\n",
              "      <td>NaN</td>\n",
              "      <td>2</td>\n",
              "    </tr>\n",
              "    <tr>\n",
              "      <th>1031014</th>\n",
              "      <td>NaN</td>\n",
              "      <td>2</td>\n",
              "    </tr>\n",
              "    <tr>\n",
              "      <th>1031017</th>\n",
              "      <td>NaN</td>\n",
              "      <td>2</td>\n",
              "    </tr>\n",
              "  </tbody>\n",
              "</table>\n",
              "<p>252667 rows × 2 columns</p>\n",
              "</div>\n",
              "      <button class=\"colab-df-convert\" onclick=\"convertToInteractive('df-f11cc21b-0131-4ffb-9bf3-c9d487d09a61')\"\n",
              "              title=\"Convert this dataframe to an interactive table.\"\n",
              "              style=\"display:none;\">\n",
              "\n",
              "  <svg xmlns=\"http://www.w3.org/2000/svg\" height=\"24px\"viewBox=\"0 0 24 24\"\n",
              "       width=\"24px\">\n",
              "    <path d=\"M0 0h24v24H0V0z\" fill=\"none\"/>\n",
              "    <path d=\"M18.56 5.44l.94 2.06.94-2.06 2.06-.94-2.06-.94-.94-2.06-.94 2.06-2.06.94zm-11 1L8.5 8.5l.94-2.06 2.06-.94-2.06-.94L8.5 2.5l-.94 2.06-2.06.94zm10 10l.94 2.06.94-2.06 2.06-.94-2.06-.94-.94-2.06-.94 2.06-2.06.94z\"/><path d=\"M17.41 7.96l-1.37-1.37c-.4-.4-.92-.59-1.43-.59-.52 0-1.04.2-1.43.59L10.3 9.45l-7.72 7.72c-.78.78-.78 2.05 0 2.83L4 21.41c.39.39.9.59 1.41.59.51 0 1.02-.2 1.41-.59l7.78-7.78 2.81-2.81c.8-.78.8-2.07 0-2.86zM5.41 20L4 18.59l7.72-7.72 1.47 1.35L5.41 20z\"/>\n",
              "  </svg>\n",
              "      </button>\n",
              "\n",
              "\n",
              "\n",
              "    <div id=\"df-aa5ef674-9139-4150-8746-712cfe46ea32\">\n",
              "      <button class=\"colab-df-quickchart\" onclick=\"quickchart('df-aa5ef674-9139-4150-8746-712cfe46ea32')\"\n",
              "              title=\"Suggest charts.\"\n",
              "              style=\"display:none;\">\n",
              "\n",
              "<svg xmlns=\"http://www.w3.org/2000/svg\" height=\"24px\"viewBox=\"0 0 24 24\"\n",
              "     width=\"24px\">\n",
              "    <g>\n",
              "        <path d=\"M19 3H5c-1.1 0-2 .9-2 2v14c0 1.1.9 2 2 2h14c1.1 0 2-.9 2-2V5c0-1.1-.9-2-2-2zM9 17H7v-7h2v7zm4 0h-2V7h2v10zm4 0h-2v-4h2v4z\"/>\n",
              "    </g>\n",
              "</svg>\n",
              "      </button>\n",
              "    </div>\n",
              "\n",
              "<style>\n",
              "  .colab-df-quickchart {\n",
              "    background-color: #E8F0FE;\n",
              "    border: none;\n",
              "    border-radius: 50%;\n",
              "    cursor: pointer;\n",
              "    display: none;\n",
              "    fill: #1967D2;\n",
              "    height: 32px;\n",
              "    padding: 0 0 0 0;\n",
              "    width: 32px;\n",
              "  }\n",
              "\n",
              "  .colab-df-quickchart:hover {\n",
              "    background-color: #E2EBFA;\n",
              "    box-shadow: 0px 1px 2px rgba(60, 64, 67, 0.3), 0px 1px 3px 1px rgba(60, 64, 67, 0.15);\n",
              "    fill: #174EA6;\n",
              "  }\n",
              "\n",
              "  [theme=dark] .colab-df-quickchart {\n",
              "    background-color: #3B4455;\n",
              "    fill: #D2E3FC;\n",
              "  }\n",
              "\n",
              "  [theme=dark] .colab-df-quickchart:hover {\n",
              "    background-color: #434B5C;\n",
              "    box-shadow: 0px 1px 3px 1px rgba(0, 0, 0, 0.15);\n",
              "    filter: drop-shadow(0px 1px 2px rgba(0, 0, 0, 0.3));\n",
              "    fill: #FFFFFF;\n",
              "  }\n",
              "</style>\n",
              "\n",
              "    <script>\n",
              "      async function quickchart(key) {\n",
              "        const containerElement = document.querySelector('#' + key);\n",
              "        const charts = await google.colab.kernel.invokeFunction(\n",
              "            'suggestCharts', [key], {});\n",
              "      }\n",
              "    </script>\n",
              "\n",
              "      <script>\n",
              "\n",
              "function displayQuickchartButton(domScope) {\n",
              "  let quickchartButtonEl =\n",
              "    domScope.querySelector('#df-aa5ef674-9139-4150-8746-712cfe46ea32 button.colab-df-quickchart');\n",
              "  quickchartButtonEl.style.display =\n",
              "    google.colab.kernel.accessAllowed ? 'block' : 'none';\n",
              "}\n",
              "\n",
              "        displayQuickchartButton(document);\n",
              "      </script>\n",
              "      <style>\n",
              "    .colab-df-container {\n",
              "      display:flex;\n",
              "      flex-wrap:wrap;\n",
              "      gap: 12px;\n",
              "    }\n",
              "\n",
              "    .colab-df-convert {\n",
              "      background-color: #E8F0FE;\n",
              "      border: none;\n",
              "      border-radius: 50%;\n",
              "      cursor: pointer;\n",
              "      display: none;\n",
              "      fill: #1967D2;\n",
              "      height: 32px;\n",
              "      padding: 0 0 0 0;\n",
              "      width: 32px;\n",
              "    }\n",
              "\n",
              "    .colab-df-convert:hover {\n",
              "      background-color: #E2EBFA;\n",
              "      box-shadow: 0px 1px 2px rgba(60, 64, 67, 0.3), 0px 1px 3px 1px rgba(60, 64, 67, 0.15);\n",
              "      fill: #174EA6;\n",
              "    }\n",
              "\n",
              "    [theme=dark] .colab-df-convert {\n",
              "      background-color: #3B4455;\n",
              "      fill: #D2E3FC;\n",
              "    }\n",
              "\n",
              "    [theme=dark] .colab-df-convert:hover {\n",
              "      background-color: #434B5C;\n",
              "      box-shadow: 0px 1px 3px 1px rgba(0, 0, 0, 0.15);\n",
              "      filter: drop-shadow(0px 1px 2px rgba(0, 0, 0, 0.3));\n",
              "      fill: #FFFFFF;\n",
              "    }\n",
              "  </style>\n",
              "\n",
              "      <script>\n",
              "        const buttonEl =\n",
              "          document.querySelector('#df-f11cc21b-0131-4ffb-9bf3-c9d487d09a61 button.colab-df-convert');\n",
              "        buttonEl.style.display =\n",
              "          google.colab.kernel.accessAllowed ? 'block' : 'none';\n",
              "\n",
              "        async function convertToInteractive(key) {\n",
              "          const element = document.querySelector('#df-f11cc21b-0131-4ffb-9bf3-c9d487d09a61');\n",
              "          const dataTable =\n",
              "            await google.colab.kernel.invokeFunction('convertToInteractive',\n",
              "                                                     [key], {});\n",
              "          if (!dataTable) return;\n",
              "\n",
              "          const docLinkHtml = 'Like what you see? Visit the ' +\n",
              "            '<a target=\"_blank\" href=https://colab.research.google.com/notebooks/data_table.ipynb>data table notebook</a>'\n",
              "            + ' to learn more about interactive tables.';\n",
              "          element.innerHTML = '';\n",
              "          dataTable['output_type'] = 'display_data';\n",
              "          await google.colab.output.renderOutput(dataTable, element);\n",
              "          const docLink = document.createElement('div');\n",
              "          docLink.innerHTML = docLinkHtml;\n",
              "          element.appendChild(docLink);\n",
              "        }\n",
              "      </script>\n",
              "    </div>\n",
              "  </div>\n"
            ]
          },
          "metadata": {},
          "execution_count": 5
        }
      ]
    },
    {
      "cell_type": "code",
      "source": [
        "multipleinfradf[multipleinfradf['Infra_Combo']=='Junction'].index[0]"
      ],
      "metadata": {
        "colab": {
          "base_uri": "https://localhost:8080/"
        },
        "id": "UOFqlw_E5kxF",
        "outputId": "92bbabdb-2125-4b5b-f160-2d33c9fa805d"
      },
      "execution_count": null,
      "outputs": [
        {
          "output_type": "execute_result",
          "data": {
            "text/plain": [
              "0"
            ]
          },
          "metadata": {},
          "execution_count": 21
        }
      ]
    },
    {
      "cell_type": "code",
      "source": [
        "def create_baseline_v3(conf, mt2, start_date):\n",
        "    \"\"\"\n",
        "  #create baseline cols - baseline final, validation, delta final, delta valid, avg error\n",
        "  \"\"\"\n",
        "\n",
        "    # create final copy to store updated #'s'\n",
        "    final_mt = mt2.copy()\n",
        "    final_mt[\"baseline_final\"] = final_mt.apply(lambda x: -1.0, axis=1)\n",
        "    final_mt[\"baseline_valid\"] = final_mt.apply(lambda x: -1.0, axis=1)\n",
        "\n",
        "    c, t = 0, 0\n",
        "    for (name, group) in mt2.groupby([\"stg_item_cd\"]):\n",
        "\n",
        "        # 0. sort group\n",
        "        group = group.sort_values(by=[\"week\"])\n",
        "\n",
        "        # 1. get init vars\n",
        "        indices = list(group.index.values)\n",
        "        baseline1_list, baselinev_list = [], []\n",
        "        actual_oos = group.at[indices[0], \"actual_oos_rate\"]\n",
        "\n",
        "        # 2. update init vars\n",
        "        baseline1_list = [\n",
        "            actual_oos\n",
        "        ]  # first baseline is always = actual oos bcuz of preroll out\n",
        "        baselinev_list = [actual_oos]\n",
        "        final_mt.at[indices[0], \"baseline_final\"] = baseline1_list[-1]\n",
        "        final_mt.at[indices[0], \"baseline_valid\"] = baselinev_list[-1]\n",
        "        prev_wk_sales = group.at[indices[0], \"gross_sales\"]\n",
        "\n",
        "        # 3. iterate thru upcoming weeks\n",
        "        for idx in indices[1:]:\n",
        "\n",
        "            # 3.1. get main vars\n",
        "            cur_fr = group.at[idx, \"fill_rate_cont\"]\n",
        "            actual_oos = group.at[idx, \"actual_oos_rate\"]\n",
        "            sr_actioned = group.at[idx, \"sr_alert_actioned\"]\n",
        "            oos_raised = group.at[idx, \"oos_alert_raised\"]\n",
        "            pro_aoos = group.at[idx, \"pro_aoos_final_cont\"]\n",
        "            pro_fr = group.at[idx, \"pro_fr_final_cont\"]\n",
        "            wk_sales = group.at[idx, \"gross_sales\"]\n",
        "\n",
        "            if (wk_sales <= 0) or (prev_wk_sales <= 0):\n",
        "                wk_sales = 1\n",
        "                prev_wk_sales = 1\n",
        "\n",
        "            # adj baseline\n",
        "            adj_baseline = (pro_fr / cur_fr) * pro_aoos  # inverse\n",
        "            if math.isnan(adj_baseline) or math.isinf(adj_baseline):\n",
        "                t += 1\n",
        "                adj_baseline = 0.0\n",
        "            c += 1\n",
        "            # update prev wk sales\n",
        "            prev_wk_sales = wk_sales\n",
        "\n",
        "            if sr_actioned == 1:  # baseline=prev week baseline\n",
        "                baseline1_list.append(baseline1_list[-1])\n",
        "                baselinev_list.append(baselinev_list[-1])\n",
        "            elif oos_raised == 1:  # baseline=adj baseline\n",
        "                baseline1_list.append(adj_baseline)\n",
        "                baselinev_list.append(adj_baseline)\n",
        "            else:  # baseline f is actual, baseline v is adj\n",
        "                baseline1_list.append(actual_oos)\n",
        "                baselinev_list.append(adj_baseline)\n",
        "\n",
        "            # 4. update final mt\n",
        "            final_mt.at[idx, \"baseline_final\"] = baseline1_list[-1]\n",
        "            final_mt.at[idx, \"baseline_valid\"] = baselinev_list[-1]\n",
        "    print(\"error:> \", c, t)\n",
        "    return final_mt"
      ],
      "metadata": {
        "id": "o54nno1muag-"
      },
      "execution_count": null,
      "outputs": []
    }
  ]
}